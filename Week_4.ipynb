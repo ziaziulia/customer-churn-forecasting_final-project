{
  "nbformat": 4,
  "nbformat_minor": 0,
  "metadata": {
    "kernelspec": {
      "display_name": "Python 3",
      "language": "python",
      "name": "python3"
    },
    "language_info": {
      "codemirror_mode": {
        "name": "ipython",
        "version": 3
      },
      "file_extension": ".py",
      "mimetype": "text/x-python",
      "name": "python",
      "nbconvert_exporter": "python",
      "pygments_lexer": "ipython3",
      "version": "3.7.3"
    },
    "colab": {
      "name": "Week_4.ipynb",
      "provenance": []
    }
  },
  "cells": [
    {
      "cell_type": "code",
      "metadata": {
        "id": "JejC5wAsq0vU",
        "colab_type": "code",
        "outputId": "97bdf79c-aeb5-4e2e-e1fa-ac109588e0b7",
        "colab": {
          "base_uri": "https://localhost:8080/",
          "height": 138
        }
      },
      "source": [
        "import pandas as pd\n",
        "import numpy as np\n",
        "import matplotlib as plt\n",
        "import seaborn as sns\n",
        "from sklearn.model_selection import train_test_split\n",
        "from sklearn import model_selection, linear_model, preprocessing, ensemble, metrics, svm\n",
        "from sklearn.model_selection import cross_val_score\n",
        "from sklearn.metrics import average_precision_score, roc_auc_score\n",
        "from sklearn.utils import shuffle\n",
        "%pylab inline"
      ],
      "execution_count": 0,
      "outputs": [
        {
          "output_type": "stream",
          "text": [
            "Populating the interactive namespace from numpy and matplotlib\n"
          ],
          "name": "stdout"
        },
        {
          "output_type": "stream",
          "text": [
            "/usr/local/lib/python3.6/dist-packages/statsmodels/tools/_testing.py:19: FutureWarning: pandas.util.testing is deprecated. Use the functions in the public API at pandas.testing instead.\n",
            "  import pandas.util.testing as tm\n",
            "/usr/local/lib/python3.6/dist-packages/IPython/core/magics/pylab.py:161: UserWarning: pylab import has clobbered these variables: ['plt', 'shuffle']\n",
            "`%matplotlib` prevents importing * from pylab and numpy\n",
            "  \"\\n`%matplotlib` prevents importing * from pylab and numpy\"\n"
          ],
          "name": "stderr"
        }
      ]
    },
    {
      "cell_type": "code",
      "metadata": {
        "id": "IxXSVamZq0vc",
        "colab_type": "code",
        "colab": {}
      },
      "source": [
        "from sklearn.linear_model import LogisticRegression\n",
        "from sklearn.ensemble import RandomForestClassifier\n",
        "from sklearn.ensemble import GradientBoostingClassifier"
      ],
      "execution_count": 0,
      "outputs": []
    },
    {
      "cell_type": "code",
      "metadata": {
        "id": "N-vJ-XxqEQGl",
        "colab_type": "code",
        "colab": {}
      },
      "source": [
        "train_data = pd.read_csv('train 2.csv', sep =',')"
      ],
      "execution_count": 0,
      "outputs": []
    },
    {
      "cell_type": "code",
      "metadata": {
        "id": "wv6YbmQ9EQMF",
        "colab_type": "code",
        "outputId": "e3e2da1f-ce5f-40d4-9c8f-856884627ab8",
        "colab": {
          "base_uri": "https://localhost:8080/",
          "height": 261
        }
      },
      "source": [
        "print (train_data.shape)\n",
        "train_data.head()"
      ],
      "execution_count": 0,
      "outputs": [
        {
          "output_type": "stream",
          "text": [
            "(30000, 231)\n"
          ],
          "name": "stdout"
        },
        {
          "output_type": "execute_result",
          "data": {
            "text/html": [
              "<div>\n",
              "<style scoped>\n",
              "    .dataframe tbody tr th:only-of-type {\n",
              "        vertical-align: middle;\n",
              "    }\n",
              "\n",
              "    .dataframe tbody tr th {\n",
              "        vertical-align: top;\n",
              "    }\n",
              "\n",
              "    .dataframe thead th {\n",
              "        text-align: right;\n",
              "    }\n",
              "</style>\n",
              "<table border=\"1\" class=\"dataframe\">\n",
              "  <thead>\n",
              "    <tr style=\"text-align: right;\">\n",
              "      <th></th>\n",
              "      <th>Var1</th>\n",
              "      <th>Var2</th>\n",
              "      <th>Var3</th>\n",
              "      <th>Var4</th>\n",
              "      <th>Var5</th>\n",
              "      <th>Var6</th>\n",
              "      <th>Var7</th>\n",
              "      <th>Var8</th>\n",
              "      <th>Var9</th>\n",
              "      <th>Var10</th>\n",
              "      <th>Var11</th>\n",
              "      <th>Var12</th>\n",
              "      <th>Var13</th>\n",
              "      <th>Var14</th>\n",
              "      <th>Var15</th>\n",
              "      <th>Var16</th>\n",
              "      <th>Var17</th>\n",
              "      <th>Var18</th>\n",
              "      <th>Var19</th>\n",
              "      <th>Var20</th>\n",
              "      <th>Var21</th>\n",
              "      <th>Var22</th>\n",
              "      <th>Var23</th>\n",
              "      <th>Var24</th>\n",
              "      <th>Var25</th>\n",
              "      <th>Var26</th>\n",
              "      <th>Var27</th>\n",
              "      <th>Var28</th>\n",
              "      <th>Var29</th>\n",
              "      <th>Var30</th>\n",
              "      <th>Var31</th>\n",
              "      <th>Var32</th>\n",
              "      <th>Var33</th>\n",
              "      <th>Var34</th>\n",
              "      <th>Var35</th>\n",
              "      <th>Var36</th>\n",
              "      <th>Var37</th>\n",
              "      <th>Var38</th>\n",
              "      <th>Var39</th>\n",
              "      <th>Var40</th>\n",
              "      <th>...</th>\n",
              "      <th>Var192</th>\n",
              "      <th>Var193</th>\n",
              "      <th>Var194</th>\n",
              "      <th>Var195</th>\n",
              "      <th>Var196</th>\n",
              "      <th>Var197</th>\n",
              "      <th>Var198</th>\n",
              "      <th>Var199</th>\n",
              "      <th>Var200</th>\n",
              "      <th>Var201</th>\n",
              "      <th>Var202</th>\n",
              "      <th>Var203</th>\n",
              "      <th>Var204</th>\n",
              "      <th>Var205</th>\n",
              "      <th>Var206</th>\n",
              "      <th>Var207</th>\n",
              "      <th>Var208</th>\n",
              "      <th>Var209</th>\n",
              "      <th>Var210</th>\n",
              "      <th>Var211</th>\n",
              "      <th>Var212</th>\n",
              "      <th>Var213</th>\n",
              "      <th>Var214</th>\n",
              "      <th>Var215</th>\n",
              "      <th>Var216</th>\n",
              "      <th>Var217</th>\n",
              "      <th>Var218</th>\n",
              "      <th>Var219</th>\n",
              "      <th>Var220</th>\n",
              "      <th>Var221</th>\n",
              "      <th>Var222</th>\n",
              "      <th>Var223</th>\n",
              "      <th>Var224</th>\n",
              "      <th>Var225</th>\n",
              "      <th>Var226</th>\n",
              "      <th>Var227</th>\n",
              "      <th>Var228</th>\n",
              "      <th>Var229</th>\n",
              "      <th>Var230</th>\n",
              "      <th>labels</th>\n",
              "    </tr>\n",
              "  </thead>\n",
              "  <tbody>\n",
              "    <tr>\n",
              "      <th>0</th>\n",
              "      <td>NaN</td>\n",
              "      <td>NaN</td>\n",
              "      <td>NaN</td>\n",
              "      <td>NaN</td>\n",
              "      <td>NaN</td>\n",
              "      <td>1176.0</td>\n",
              "      <td>7.0</td>\n",
              "      <td>NaN</td>\n",
              "      <td>NaN</td>\n",
              "      <td>NaN</td>\n",
              "      <td>NaN</td>\n",
              "      <td>NaN</td>\n",
              "      <td>1652.0</td>\n",
              "      <td>NaN</td>\n",
              "      <td>NaN</td>\n",
              "      <td>NaN</td>\n",
              "      <td>NaN</td>\n",
              "      <td>NaN</td>\n",
              "      <td>NaN</td>\n",
              "      <td>NaN</td>\n",
              "      <td>264.0</td>\n",
              "      <td>330.0</td>\n",
              "      <td>NaN</td>\n",
              "      <td>4.0</td>\n",
              "      <td>32.0</td>\n",
              "      <td>NaN</td>\n",
              "      <td>NaN</td>\n",
              "      <td>356.56</td>\n",
              "      <td>NaN</td>\n",
              "      <td>NaN</td>\n",
              "      <td>NaN</td>\n",
              "      <td>NaN</td>\n",
              "      <td>NaN</td>\n",
              "      <td>NaN</td>\n",
              "      <td>0.0</td>\n",
              "      <td>NaN</td>\n",
              "      <td>NaN</td>\n",
              "      <td>1670778.0</td>\n",
              "      <td>NaN</td>\n",
              "      <td>NaN</td>\n",
              "      <td>...</td>\n",
              "      <td>a4vvyxLkBI</td>\n",
              "      <td>RO12</td>\n",
              "      <td>NaN</td>\n",
              "      <td>taul</td>\n",
              "      <td>1K8T</td>\n",
              "      <td>TIPl</td>\n",
              "      <td>8Nsn57c</td>\n",
              "      <td>y4g9XoZ</td>\n",
              "      <td>NaN</td>\n",
              "      <td>NaN</td>\n",
              "      <td>rF6a</td>\n",
              "      <td>9_Y1</td>\n",
              "      <td>vzJD</td>\n",
              "      <td>VpdQ</td>\n",
              "      <td>zm5i</td>\n",
              "      <td>me75fM6ugJ</td>\n",
              "      <td>kIsH</td>\n",
              "      <td>NaN</td>\n",
              "      <td>uKAI</td>\n",
              "      <td>L84s</td>\n",
              "      <td>NhsEn4L</td>\n",
              "      <td>NaN</td>\n",
              "      <td>NaN</td>\n",
              "      <td>NaN</td>\n",
              "      <td>kZJtVhC</td>\n",
              "      <td>YcYG</td>\n",
              "      <td>UYBR</td>\n",
              "      <td>FzaX</td>\n",
              "      <td>07m8iqZ</td>\n",
              "      <td>oslk</td>\n",
              "      <td>VjJAgOW</td>\n",
              "      <td>LM8l689qOp</td>\n",
              "      <td>NaN</td>\n",
              "      <td>NaN</td>\n",
              "      <td>xb3V</td>\n",
              "      <td>RAYp</td>\n",
              "      <td>F2FyR07IdsN7I</td>\n",
              "      <td>NaN</td>\n",
              "      <td>NaN</td>\n",
              "      <td>-1</td>\n",
              "    </tr>\n",
              "    <tr>\n",
              "      <th>1</th>\n",
              "      <td>NaN</td>\n",
              "      <td>NaN</td>\n",
              "      <td>NaN</td>\n",
              "      <td>NaN</td>\n",
              "      <td>NaN</td>\n",
              "      <td>1813.0</td>\n",
              "      <td>14.0</td>\n",
              "      <td>NaN</td>\n",
              "      <td>NaN</td>\n",
              "      <td>NaN</td>\n",
              "      <td>NaN</td>\n",
              "      <td>NaN</td>\n",
              "      <td>524.0</td>\n",
              "      <td>NaN</td>\n",
              "      <td>NaN</td>\n",
              "      <td>NaN</td>\n",
              "      <td>NaN</td>\n",
              "      <td>NaN</td>\n",
              "      <td>NaN</td>\n",
              "      <td>NaN</td>\n",
              "      <td>128.0</td>\n",
              "      <td>160.0</td>\n",
              "      <td>NaN</td>\n",
              "      <td>2.0</td>\n",
              "      <td>24.0</td>\n",
              "      <td>NaN</td>\n",
              "      <td>NaN</td>\n",
              "      <td>200.00</td>\n",
              "      <td>NaN</td>\n",
              "      <td>NaN</td>\n",
              "      <td>NaN</td>\n",
              "      <td>NaN</td>\n",
              "      <td>NaN</td>\n",
              "      <td>NaN</td>\n",
              "      <td>5.0</td>\n",
              "      <td>NaN</td>\n",
              "      <td>NaN</td>\n",
              "      <td>3324282.0</td>\n",
              "      <td>NaN</td>\n",
              "      <td>NaN</td>\n",
              "      <td>...</td>\n",
              "      <td>wRXmfo875g</td>\n",
              "      <td>LrdZy8QqgUfkVShG</td>\n",
              "      <td>NaN</td>\n",
              "      <td>taul</td>\n",
              "      <td>1K8T</td>\n",
              "      <td>LloI</td>\n",
              "      <td>fhk21Ss</td>\n",
              "      <td>9YuuPSz3BI</td>\n",
              "      <td>qVbt9BD</td>\n",
              "      <td>NaN</td>\n",
              "      <td>VNo6</td>\n",
              "      <td>9_Y1</td>\n",
              "      <td>gnEy</td>\n",
              "      <td>VpdQ</td>\n",
              "      <td>6JmL</td>\n",
              "      <td>7M47J5GA0pTYIFxg5uy</td>\n",
              "      <td>kIsH</td>\n",
              "      <td>NaN</td>\n",
              "      <td>uKAI</td>\n",
              "      <td>L84s</td>\n",
              "      <td>4kVnq_T26xq1p</td>\n",
              "      <td>NaN</td>\n",
              "      <td>Dl9TQkS</td>\n",
              "      <td>NaN</td>\n",
              "      <td>jaw2yIk</td>\n",
              "      <td>fpq1</td>\n",
              "      <td>cJvF</td>\n",
              "      <td>FzaX</td>\n",
              "      <td>4UxGlow</td>\n",
              "      <td>zCkv</td>\n",
              "      <td>catzS2D</td>\n",
              "      <td>LM8l689qOp</td>\n",
              "      <td>NaN</td>\n",
              "      <td>ELof</td>\n",
              "      <td>3Cy4</td>\n",
              "      <td>ZI9m</td>\n",
              "      <td>ib5G6X1eUxUn6</td>\n",
              "      <td>mj86</td>\n",
              "      <td>NaN</td>\n",
              "      <td>-1</td>\n",
              "    </tr>\n",
              "    <tr>\n",
              "      <th>2</th>\n",
              "      <td>NaN</td>\n",
              "      <td>NaN</td>\n",
              "      <td>NaN</td>\n",
              "      <td>NaN</td>\n",
              "      <td>NaN</td>\n",
              "      <td>777.0</td>\n",
              "      <td>7.0</td>\n",
              "      <td>NaN</td>\n",
              "      <td>NaN</td>\n",
              "      <td>NaN</td>\n",
              "      <td>NaN</td>\n",
              "      <td>NaN</td>\n",
              "      <td>16.0</td>\n",
              "      <td>NaN</td>\n",
              "      <td>NaN</td>\n",
              "      <td>NaN</td>\n",
              "      <td>NaN</td>\n",
              "      <td>NaN</td>\n",
              "      <td>NaN</td>\n",
              "      <td>NaN</td>\n",
              "      <td>128.0</td>\n",
              "      <td>160.0</td>\n",
              "      <td>NaN</td>\n",
              "      <td>2.0</td>\n",
              "      <td>56.0</td>\n",
              "      <td>NaN</td>\n",
              "      <td>NaN</td>\n",
              "      <td>186.64</td>\n",
              "      <td>NaN</td>\n",
              "      <td>NaN</td>\n",
              "      <td>NaN</td>\n",
              "      <td>NaN</td>\n",
              "      <td>NaN</td>\n",
              "      <td>NaN</td>\n",
              "      <td>0.0</td>\n",
              "      <td>NaN</td>\n",
              "      <td>NaN</td>\n",
              "      <td>6447600.0</td>\n",
              "      <td>NaN</td>\n",
              "      <td>NaN</td>\n",
              "      <td>...</td>\n",
              "      <td>DHeTmBftjz</td>\n",
              "      <td>RO12</td>\n",
              "      <td>NaN</td>\n",
              "      <td>taul</td>\n",
              "      <td>1K8T</td>\n",
              "      <td>LFM_</td>\n",
              "      <td>DhOMuhr</td>\n",
              "      <td>HKFGqS8</td>\n",
              "      <td>NaN</td>\n",
              "      <td>NaN</td>\n",
              "      <td>qljo</td>\n",
              "      <td>9_Y1</td>\n",
              "      <td>4N0K</td>\n",
              "      <td>sJzTlal</td>\n",
              "      <td>zm5i</td>\n",
              "      <td>me75fM6ugJ</td>\n",
              "      <td>kIsH</td>\n",
              "      <td>NaN</td>\n",
              "      <td>uKAI</td>\n",
              "      <td>L84s</td>\n",
              "      <td>NhsEn4L</td>\n",
              "      <td>NaN</td>\n",
              "      <td>NaN</td>\n",
              "      <td>NaN</td>\n",
              "      <td>mAjbk_S</td>\n",
              "      <td>EPl3</td>\n",
              "      <td>cJvF</td>\n",
              "      <td>FzaX</td>\n",
              "      <td>3aBuLpj</td>\n",
              "      <td>oslk</td>\n",
              "      <td>jjOYyXX</td>\n",
              "      <td>LM8l689qOp</td>\n",
              "      <td>NaN</td>\n",
              "      <td>NaN</td>\n",
              "      <td>Qu4f</td>\n",
              "      <td>RAYp</td>\n",
              "      <td>F2FyR07IdsN7I</td>\n",
              "      <td>NaN</td>\n",
              "      <td>NaN</td>\n",
              "      <td>-1</td>\n",
              "    </tr>\n",
              "    <tr>\n",
              "      <th>3</th>\n",
              "      <td>NaN</td>\n",
              "      <td>NaN</td>\n",
              "      <td>NaN</td>\n",
              "      <td>NaN</td>\n",
              "      <td>NaN</td>\n",
              "      <td>1554.0</td>\n",
              "      <td>7.0</td>\n",
              "      <td>NaN</td>\n",
              "      <td>NaN</td>\n",
              "      <td>NaN</td>\n",
              "      <td>NaN</td>\n",
              "      <td>NaN</td>\n",
              "      <td>72.0</td>\n",
              "      <td>NaN</td>\n",
              "      <td>NaN</td>\n",
              "      <td>NaN</td>\n",
              "      <td>NaN</td>\n",
              "      <td>NaN</td>\n",
              "      <td>NaN</td>\n",
              "      <td>NaN</td>\n",
              "      <td>444.0</td>\n",
              "      <td>555.0</td>\n",
              "      <td>NaN</td>\n",
              "      <td>8.0</td>\n",
              "      <td>368.0</td>\n",
              "      <td>NaN</td>\n",
              "      <td>NaN</td>\n",
              "      <td>166.56</td>\n",
              "      <td>NaN</td>\n",
              "      <td>NaN</td>\n",
              "      <td>NaN</td>\n",
              "      <td>NaN</td>\n",
              "      <td>NaN</td>\n",
              "      <td>NaN</td>\n",
              "      <td>0.0</td>\n",
              "      <td>NaN</td>\n",
              "      <td>NaN</td>\n",
              "      <td>39258.0</td>\n",
              "      <td>NaN</td>\n",
              "      <td>NaN</td>\n",
              "      <td>...</td>\n",
              "      <td>avkq9ayfAo</td>\n",
              "      <td>RO12</td>\n",
              "      <td>NaN</td>\n",
              "      <td>taul</td>\n",
              "      <td>1K8T</td>\n",
              "      <td>LZs_</td>\n",
              "      <td>HzRXa4U</td>\n",
              "      <td>V_KvNzO</td>\n",
              "      <td>G8rYZbN</td>\n",
              "      <td>NaN</td>\n",
              "      <td>6v5P</td>\n",
              "      <td>9_Y1</td>\n",
              "      <td>000J</td>\n",
              "      <td>NaN</td>\n",
              "      <td>IYzP</td>\n",
              "      <td>DHn_WUyBhW_whjA88g9bvA64_</td>\n",
              "      <td>kIsH</td>\n",
              "      <td>NaN</td>\n",
              "      <td>uKAI</td>\n",
              "      <td>L84s</td>\n",
              "      <td>CrNX</td>\n",
              "      <td>NaN</td>\n",
              "      <td>dRv1k9E</td>\n",
              "      <td>NaN</td>\n",
              "      <td>mAjbq_f</td>\n",
              "      <td>b9MD</td>\n",
              "      <td>cJvF</td>\n",
              "      <td>OFWH</td>\n",
              "      <td>FMZBCuo</td>\n",
              "      <td>d0EEeJi</td>\n",
              "      <td>MHP8mHO</td>\n",
              "      <td>LM8l689qOp</td>\n",
              "      <td>NaN</td>\n",
              "      <td>ELof</td>\n",
              "      <td>7P5s</td>\n",
              "      <td>nIGXDli</td>\n",
              "      <td>F2FyR07IdsN7I</td>\n",
              "      <td>mj86</td>\n",
              "      <td>NaN</td>\n",
              "      <td>1</td>\n",
              "    </tr>\n",
              "    <tr>\n",
              "      <th>4</th>\n",
              "      <td>NaN</td>\n",
              "      <td>NaN</td>\n",
              "      <td>NaN</td>\n",
              "      <td>NaN</td>\n",
              "      <td>NaN</td>\n",
              "      <td>980.0</td>\n",
              "      <td>0.0</td>\n",
              "      <td>NaN</td>\n",
              "      <td>NaN</td>\n",
              "      <td>NaN</td>\n",
              "      <td>NaN</td>\n",
              "      <td>NaN</td>\n",
              "      <td>0.0</td>\n",
              "      <td>NaN</td>\n",
              "      <td>NaN</td>\n",
              "      <td>NaN</td>\n",
              "      <td>NaN</td>\n",
              "      <td>NaN</td>\n",
              "      <td>NaN</td>\n",
              "      <td>NaN</td>\n",
              "      <td>336.0</td>\n",
              "      <td>420.0</td>\n",
              "      <td>NaN</td>\n",
              "      <td>2.0</td>\n",
              "      <td>128.0</td>\n",
              "      <td>NaN</td>\n",
              "      <td>NaN</td>\n",
              "      <td>200.00</td>\n",
              "      <td>NaN</td>\n",
              "      <td>NaN</td>\n",
              "      <td>NaN</td>\n",
              "      <td>NaN</td>\n",
              "      <td>NaN</td>\n",
              "      <td>NaN</td>\n",
              "      <td>0.0</td>\n",
              "      <td>NaN</td>\n",
              "      <td>NaN</td>\n",
              "      <td>1418100.0</td>\n",
              "      <td>NaN</td>\n",
              "      <td>NaN</td>\n",
              "      <td>...</td>\n",
              "      <td>CxSr4RXktW</td>\n",
              "      <td>AERks4l</td>\n",
              "      <td>NaN</td>\n",
              "      <td>taul</td>\n",
              "      <td>1K8T</td>\n",
              "      <td>uErj</td>\n",
              "      <td>ON5Ou9e</td>\n",
              "      <td>FoJylxy</td>\n",
              "      <td>NaN</td>\n",
              "      <td>NaN</td>\n",
              "      <td>F4f_</td>\n",
              "      <td>9_Y1</td>\n",
              "      <td>Albh</td>\n",
              "      <td>VpdQ</td>\n",
              "      <td>IYzP</td>\n",
              "      <td>DHn_WUyBhW_whjA88g9bvA64_</td>\n",
              "      <td>kIsH</td>\n",
              "      <td>NaN</td>\n",
              "      <td>uKAI</td>\n",
              "      <td>L84s</td>\n",
              "      <td>JBfYVit4g8</td>\n",
              "      <td>NaN</td>\n",
              "      <td>NaN</td>\n",
              "      <td>NaN</td>\n",
              "      <td>TDc_9Yi</td>\n",
              "      <td>Y5id</td>\n",
              "      <td>cJvF</td>\n",
              "      <td>FzaX</td>\n",
              "      <td>p40KIAf</td>\n",
              "      <td>Al6ZaUT</td>\n",
              "      <td>C6OGkwT</td>\n",
              "      <td>LM8l689qOp</td>\n",
              "      <td>NaN</td>\n",
              "      <td>NaN</td>\n",
              "      <td>Xa3G</td>\n",
              "      <td>02N6s8f</td>\n",
              "      <td>xwM2aC7IdeMC0</td>\n",
              "      <td>NaN</td>\n",
              "      <td>NaN</td>\n",
              "      <td>-1</td>\n",
              "    </tr>\n",
              "  </tbody>\n",
              "</table>\n",
              "<p>5 rows × 231 columns</p>\n",
              "</div>"
            ],
            "text/plain": [
              "   Var1  Var2  Var3  Var4  Var5  ...   Var227         Var228  Var229  Var230  labels\n",
              "0   NaN   NaN   NaN   NaN   NaN  ...     RAYp  F2FyR07IdsN7I     NaN     NaN      -1\n",
              "1   NaN   NaN   NaN   NaN   NaN  ...     ZI9m  ib5G6X1eUxUn6    mj86     NaN      -1\n",
              "2   NaN   NaN   NaN   NaN   NaN  ...     RAYp  F2FyR07IdsN7I     NaN     NaN      -1\n",
              "3   NaN   NaN   NaN   NaN   NaN  ...  nIGXDli  F2FyR07IdsN7I    mj86     NaN       1\n",
              "4   NaN   NaN   NaN   NaN   NaN  ...  02N6s8f  xwM2aC7IdeMC0     NaN     NaN      -1\n",
              "\n",
              "[5 rows x 231 columns]"
            ]
          },
          "metadata": {
            "tags": []
          },
          "execution_count": 4
        }
      ]
    },
    {
      "cell_type": "code",
      "metadata": {
        "id": "YVYuYXWfEWGo",
        "colab_type": "code",
        "colab": {}
      },
      "source": [
        ""
      ],
      "execution_count": 0,
      "outputs": []
    },
    {
      "cell_type": "code",
      "metadata": {
        "id": "fUKGEeKVEWLE",
        "colab_type": "code",
        "colab": {}
      },
      "source": [
        ""
      ],
      "execution_count": 0,
      "outputs": []
    },
    {
      "cell_type": "code",
      "metadata": {
        "id": "RgCLagqyq0vl",
        "colab_type": "code",
        "colab": {}
      },
      "source": [
        "from sklearn.utils import shuffle\n",
        "# так как классы не сбалансированы проводим oversampling, добавляем необходимое количество строк с классом \"отток\" так, \n",
        "# чтобы была пропорция классов примерно 1:1\n",
        "def oversampling(data):\n",
        "    dataChurn = data[data['labels'] == 1]\n",
        "    dataNoChurn = data[data['labels'] == -1]\n",
        "    alpha = (int)(dataNoChurn.shape[0]/dataChurn.shape[0])\n",
        "    dataChurnRet = dataChurn \n",
        "    for i in range(alpha):\n",
        "        dataChurnRet = dataChurnRet.append(dataChurn)\n",
        "    dataNoChurn = dataNoChurn.append(dataChurnRet)\n",
        "    dataNoChurn = shuffle(dataNoChurn)\n",
        "    return dataNoChurn.iloc[:,:230], dataNoChurn.iloc[:,230:]\n",
        "# ради эксперимента попробовал undersampling. Результаты не намного хуже, чем с oversampling'ом\n",
        "def undersampling(data):\n",
        "    dataChurn = data[data['labels'] == 1]\n",
        "    dataNoChurn = data[data['labels'] == -1]\n",
        "    countFirst = len(dataChurn)\n",
        "    dataChurn = dataChurn.append(dataNoChurn.iloc[:countFirst,:])\n",
        "    dataChurn = shuffle(dataChurn)\n",
        "    return dataChurn.iloc[:,:230], dataChurn.iloc[:,230:]"
      ],
      "execution_count": 0,
      "outputs": []
    },
    {
      "cell_type": "markdown",
      "metadata": {
        "id": "4jXHbLSZq0vn",
        "colab_type": "text"
      },
      "source": [
        "# 1. Преобразование данных:"
      ]
    },
    {
      "cell_type": "code",
      "metadata": {
        "id": "YAEU8_9dq0vp",
        "colab_type": "code",
        "colab": {}
      },
      "source": [
        "#заменяем все пропуски в датасете на нули:\n",
        "train_data = train_data.fillna(0)\n",
        "#проводим undersampling для того, чтобы сделать пропорцию классов 1:1 :\n",
        "x_data, y_data = undersampling(train_data)"
      ],
      "execution_count": 0,
      "outputs": []
    },
    {
      "cell_type": "code",
      "metadata": {
        "id": "YwDxwu8Oq0vv",
        "colab_type": "code",
        "outputId": "d4d7f8a6-49e8-4318-b84d-4b850d8ddc87",
        "colab": {
          "base_uri": "https://localhost:8080/",
          "height": 34
        }
      },
      "source": [
        "le = preprocessing.LabelEncoder()\n",
        "\n",
        "# Encode first DataFrame 2 (where there is a combination of floats and strings)\n",
        "x_data = x_data.apply(lambda col: le.fit_transform(col.astype(str)), axis=0, result_type='expand')\n",
        "print(\"x_data encoded\")"
      ],
      "execution_count": 0,
      "outputs": [
        {
          "output_type": "stream",
          "text": [
            "x_data encoded\n"
          ],
          "name": "stdout"
        }
      ]
    },
    {
      "cell_type": "markdown",
      "metadata": {
        "id": "FrwquS6Yq0vy",
        "colab_type": "text"
      },
      "source": [
        "# 2. Построение моделей и оценка качества кросс-валидации:"
      ]
    },
    {
      "cell_type": "code",
      "metadata": {
        "id": "cSivStMsq0vz",
        "colab_type": "code",
        "colab": {}
      },
      "source": [
        "# печатаем метрики по кросс-валидации\n",
        "def get_cv_roc_pr_rc(clf, skf, X, y):\n",
        "    roc_auc = []\n",
        "    pr_auc = []\n",
        "    precision = []\n",
        "    recall = []\n",
        "    models = []\n",
        "    for train, test in skf.split(X, y):\n",
        "        models.append(clf.fit(X.iloc[train,:], y.iloc[train]))\n",
        "        y_pred = clf.predict(X.iloc[test,:])\n",
        "        y_pred_prob = clf.predict_proba(X.iloc[test,:])[:,1]\n",
        "        roc_auc.append(metrics.roc_auc_score(y.iloc[test], y_pred_prob))\n",
        "        pr_auc.append(metrics.average_precision_score(y.iloc[test], y_pred_prob))\n",
        "        precision.append(metrics.precision_score(y.iloc[test], y_pred))\n",
        "        recall.append(metrics.recall_score(y.iloc[test], y_pred))\n",
        "\n",
        "    print ('ROC-AUC:', np.mean(roc_auc))\n",
        "    print ('PR-AUC:', np.mean(pr_auc))\n",
        "    print ('Precission:', np.mean(precision))\n",
        "    print ('Recall:', np.mean(recall))\n",
        "    \n",
        "    return roc_auc, pr_auc, precision, recall, models"
      ],
      "execution_count": 0,
      "outputs": []
    },
    {
      "cell_type": "code",
      "metadata": {
        "id": "TO8DjOXbq0v1",
        "colab_type": "code",
        "colab": {}
      },
      "source": [
        "from sklearn.model_selection import StratifiedKFold"
      ],
      "execution_count": 0,
      "outputs": []
    },
    {
      "cell_type": "code",
      "metadata": {
        "id": "-ojLRGztq0v3",
        "colab_type": "code",
        "outputId": "4551a991-e6d2-42ff-f3cf-3350b273bd79",
        "colab": {
          "base_uri": "https://localhost:8080/",
          "height": 70
        }
      },
      "source": [
        "# разобьем рабочие данные для кросс-валидации, поделим на 9 подвыборок\n",
        "skf = StratifiedKFold(n_splits=9, random_state=19)"
      ],
      "execution_count": 0,
      "outputs": [
        {
          "output_type": "stream",
          "text": [
            "/usr/local/lib/python3.6/dist-packages/sklearn/model_selection/_split.py:296: FutureWarning: Setting a random_state has no effect since shuffle is False. This will raise an error in 0.24. You should leave random_state to its default (None), or set shuffle=True.\n",
            "  FutureWarning\n"
          ],
          "name": "stderr"
        }
      ]
    },
    {
      "cell_type": "code",
      "metadata": {
        "id": "wS2ENhuYq0v9",
        "colab_type": "code",
        "outputId": "2d4123bc-77ca-46c1-90fc-31954677e94a",
        "colab": {
          "base_uri": "https://localhost:8080/",
          "height": 440
        }
      },
      "source": [
        "%%time\n",
        "\n",
        "# Логистическая регрессия\n",
        "clf = LogisticRegression(n_jobs=-1)\n",
        "roc_auc, pr_auc, precision, recall, models = get_cv_roc_pr_rc(clf, skf, x_data, y_data)"
      ],
      "execution_count": 0,
      "outputs": [
        {
          "output_type": "stream",
          "text": [
            "/usr/local/lib/python3.6/dist-packages/sklearn/utils/validation.py:760: DataConversionWarning: A column-vector y was passed when a 1d array was expected. Please change the shape of y to (n_samples, ), for example using ravel().\n",
            "  y = column_or_1d(y, warn=True)\n",
            "/usr/local/lib/python3.6/dist-packages/sklearn/utils/validation.py:760: DataConversionWarning: A column-vector y was passed when a 1d array was expected. Please change the shape of y to (n_samples, ), for example using ravel().\n",
            "  y = column_or_1d(y, warn=True)\n",
            "/usr/local/lib/python3.6/dist-packages/sklearn/utils/validation.py:760: DataConversionWarning: A column-vector y was passed when a 1d array was expected. Please change the shape of y to (n_samples, ), for example using ravel().\n",
            "  y = column_or_1d(y, warn=True)\n",
            "/usr/local/lib/python3.6/dist-packages/sklearn/utils/validation.py:760: DataConversionWarning: A column-vector y was passed when a 1d array was expected. Please change the shape of y to (n_samples, ), for example using ravel().\n",
            "  y = column_or_1d(y, warn=True)\n",
            "/usr/local/lib/python3.6/dist-packages/sklearn/utils/validation.py:760: DataConversionWarning: A column-vector y was passed when a 1d array was expected. Please change the shape of y to (n_samples, ), for example using ravel().\n",
            "  y = column_or_1d(y, warn=True)\n",
            "/usr/local/lib/python3.6/dist-packages/sklearn/utils/validation.py:760: DataConversionWarning: A column-vector y was passed when a 1d array was expected. Please change the shape of y to (n_samples, ), for example using ravel().\n",
            "  y = column_or_1d(y, warn=True)\n",
            "/usr/local/lib/python3.6/dist-packages/sklearn/utils/validation.py:760: DataConversionWarning: A column-vector y was passed when a 1d array was expected. Please change the shape of y to (n_samples, ), for example using ravel().\n",
            "  y = column_or_1d(y, warn=True)\n",
            "/usr/local/lib/python3.6/dist-packages/sklearn/utils/validation.py:760: DataConversionWarning: A column-vector y was passed when a 1d array was expected. Please change the shape of y to (n_samples, ), for example using ravel().\n",
            "  y = column_or_1d(y, warn=True)\n",
            "/usr/local/lib/python3.6/dist-packages/sklearn/utils/validation.py:760: DataConversionWarning: A column-vector y was passed when a 1d array was expected. Please change the shape of y to (n_samples, ), for example using ravel().\n",
            "  y = column_or_1d(y, warn=True)\n"
          ],
          "name": "stderr"
        },
        {
          "output_type": "stream",
          "text": [
            "ROC-AUC: 0.5696737980286505\n",
            "PR-AUC: 0.5553799490747788\n",
            "Precission: 0.5544953811666338\n",
            "Recall: 0.5865620419949792\n",
            "CPU times: user 496 ms, sys: 855 ms, total: 1.35 s\n",
            "Wall time: 14.2 s\n"
          ],
          "name": "stdout"
        }
      ]
    },
    {
      "cell_type": "code",
      "metadata": {
        "id": "FuEnozc1q0wB",
        "colab_type": "code",
        "colab": {}
      },
      "source": [
        ""
      ],
      "execution_count": 0,
      "outputs": []
    },
    {
      "cell_type": "code",
      "metadata": {
        "id": "QRQDdYjjq0wD",
        "colab_type": "code",
        "outputId": "4721ed7f-bf81-423f-8ee8-0e4665955257",
        "colab": {
          "base_uri": "https://localhost:8080/",
          "height": 440
        }
      },
      "source": [
        "%%time\n",
        "\n",
        "# Случайный лес\n",
        "clf = RandomForestClassifier(n_estimators = 100, n_jobs=-1)\n",
        "roc_auc, pr_auc, precision, recall, models = get_cv_roc_pr_rc(clf, skf, x_data, y_data)"
      ],
      "execution_count": 0,
      "outputs": [
        {
          "output_type": "stream",
          "text": [
            "/usr/local/lib/python3.6/dist-packages/ipykernel_launcher.py:8: DataConversionWarning: A column-vector y was passed when a 1d array was expected. Please change the shape of y to (n_samples,), for example using ravel().\n",
            "  \n",
            "/usr/local/lib/python3.6/dist-packages/ipykernel_launcher.py:8: DataConversionWarning: A column-vector y was passed when a 1d array was expected. Please change the shape of y to (n_samples,), for example using ravel().\n",
            "  \n",
            "/usr/local/lib/python3.6/dist-packages/ipykernel_launcher.py:8: DataConversionWarning: A column-vector y was passed when a 1d array was expected. Please change the shape of y to (n_samples,), for example using ravel().\n",
            "  \n",
            "/usr/local/lib/python3.6/dist-packages/ipykernel_launcher.py:8: DataConversionWarning: A column-vector y was passed when a 1d array was expected. Please change the shape of y to (n_samples,), for example using ravel().\n",
            "  \n",
            "/usr/local/lib/python3.6/dist-packages/ipykernel_launcher.py:8: DataConversionWarning: A column-vector y was passed when a 1d array was expected. Please change the shape of y to (n_samples,), for example using ravel().\n",
            "  \n",
            "/usr/local/lib/python3.6/dist-packages/ipykernel_launcher.py:8: DataConversionWarning: A column-vector y was passed when a 1d array was expected. Please change the shape of y to (n_samples,), for example using ravel().\n",
            "  \n",
            "/usr/local/lib/python3.6/dist-packages/ipykernel_launcher.py:8: DataConversionWarning: A column-vector y was passed when a 1d array was expected. Please change the shape of y to (n_samples,), for example using ravel().\n",
            "  \n",
            "/usr/local/lib/python3.6/dist-packages/ipykernel_launcher.py:8: DataConversionWarning: A column-vector y was passed when a 1d array was expected. Please change the shape of y to (n_samples,), for example using ravel().\n",
            "  \n",
            "/usr/local/lib/python3.6/dist-packages/ipykernel_launcher.py:8: DataConversionWarning: A column-vector y was passed when a 1d array was expected. Please change the shape of y to (n_samples,), for example using ravel().\n",
            "  \n"
          ],
          "name": "stderr"
        },
        {
          "output_type": "stream",
          "text": [
            "ROC-AUC: 0.6737413046335187\n",
            "PR-AUC: 0.6482135366488394\n",
            "Precission: 0.6281469906536132\n",
            "Recall: 0.6354425144747726\n",
            "CPU times: user 18 s, sys: 385 ms, total: 18.4 s\n",
            "Wall time: 12 s\n"
          ],
          "name": "stdout"
        }
      ]
    },
    {
      "cell_type": "code",
      "metadata": {
        "id": "1LVwcSWqq0wF",
        "colab_type": "code",
        "outputId": "ad4a7e22-362e-46d9-abf5-ebbc4a609a0d",
        "colab": {
          "base_uri": "https://localhost:8080/",
          "height": 440
        }
      },
      "source": [
        "%%time\n",
        "\n",
        "# Градиентный бустинг\n",
        "clf = GradientBoostingClassifier(n_estimators = 30, random_state = 19)\n",
        "roc_auc, pr_auc, precision, recall, models = get_cv_roc_pr_rc(clf, skf, x_data, y_data)"
      ],
      "execution_count": 0,
      "outputs": [
        {
          "output_type": "stream",
          "text": [
            "/usr/local/lib/python3.6/dist-packages/sklearn/ensemble/_gb.py:1454: DataConversionWarning: A column-vector y was passed when a 1d array was expected. Please change the shape of y to (n_samples, ), for example using ravel().\n",
            "  y = column_or_1d(y, warn=True)\n",
            "/usr/local/lib/python3.6/dist-packages/sklearn/ensemble/_gb.py:1454: DataConversionWarning: A column-vector y was passed when a 1d array was expected. Please change the shape of y to (n_samples, ), for example using ravel().\n",
            "  y = column_or_1d(y, warn=True)\n",
            "/usr/local/lib/python3.6/dist-packages/sklearn/ensemble/_gb.py:1454: DataConversionWarning: A column-vector y was passed when a 1d array was expected. Please change the shape of y to (n_samples, ), for example using ravel().\n",
            "  y = column_or_1d(y, warn=True)\n",
            "/usr/local/lib/python3.6/dist-packages/sklearn/ensemble/_gb.py:1454: DataConversionWarning: A column-vector y was passed when a 1d array was expected. Please change the shape of y to (n_samples, ), for example using ravel().\n",
            "  y = column_or_1d(y, warn=True)\n",
            "/usr/local/lib/python3.6/dist-packages/sklearn/ensemble/_gb.py:1454: DataConversionWarning: A column-vector y was passed when a 1d array was expected. Please change the shape of y to (n_samples, ), for example using ravel().\n",
            "  y = column_or_1d(y, warn=True)\n",
            "/usr/local/lib/python3.6/dist-packages/sklearn/ensemble/_gb.py:1454: DataConversionWarning: A column-vector y was passed when a 1d array was expected. Please change the shape of y to (n_samples, ), for example using ravel().\n",
            "  y = column_or_1d(y, warn=True)\n",
            "/usr/local/lib/python3.6/dist-packages/sklearn/ensemble/_gb.py:1454: DataConversionWarning: A column-vector y was passed when a 1d array was expected. Please change the shape of y to (n_samples, ), for example using ravel().\n",
            "  y = column_or_1d(y, warn=True)\n",
            "/usr/local/lib/python3.6/dist-packages/sklearn/ensemble/_gb.py:1454: DataConversionWarning: A column-vector y was passed when a 1d array was expected. Please change the shape of y to (n_samples, ), for example using ravel().\n",
            "  y = column_or_1d(y, warn=True)\n",
            "/usr/local/lib/python3.6/dist-packages/sklearn/ensemble/_gb.py:1454: DataConversionWarning: A column-vector y was passed when a 1d array was expected. Please change the shape of y to (n_samples, ), for example using ravel().\n",
            "  y = column_or_1d(y, warn=True)\n"
          ],
          "name": "stderr"
        },
        {
          "output_type": "stream",
          "text": [
            "ROC-AUC: 0.7153771974879031\n",
            "PR-AUC: 0.7086459518297834\n",
            "Precission: 0.6400421249054581\n",
            "Recall: 0.6771545281732039\n",
            "CPU times: user 13.2 s, sys: 12.4 ms, total: 13.2 s\n",
            "Wall time: 13.3 s\n"
          ],
          "name": "stdout"
        }
      ]
    },
    {
      "cell_type": "markdown",
      "metadata": {
        "id": "sxazj3vgq0wH",
        "colab_type": "text"
      },
      "source": [
        "Были обучены три модели: логистическая регрессия, случайный лес и градиентный бустинг. Все три модели показали примерно одинаковое качество, за отправные значения примем метрики, показанные Градиентным бустингом:"
      ]
    },
    {
      "cell_type": "markdown",
      "metadata": {
        "id": "6c3nO4wBq0wI",
        "colab_type": "text"
      },
      "source": [
        "ROC-AUC: 0.716606066648193\n",
        "Precission: 0.6460469878765588\n",
        "Recall: 0.6843121036669424"
      ]
    },
    {
      "cell_type": "code",
      "metadata": {
        "id": "DEQEd2y6q0wJ",
        "colab_type": "code",
        "colab": {}
      },
      "source": [
        "# подгружаем тестовые данные для Kaggle\n",
        "test_kaggle = pd.read_csv('orange_small_churn_test_data.csv', sep=',')"
      ],
      "execution_count": 0,
      "outputs": []
    },
    {
      "cell_type": "code",
      "metadata": {
        "id": "PaUoy-_TzEOG",
        "colab_type": "code",
        "outputId": "4ad9c232-87c5-40d5-e3f7-a06e9692ba74",
        "colab": {
          "base_uri": "https://localhost:8080/",
          "height": 50
        }
      },
      "source": [
        "print (x_data.shape)\n",
        "print (test_kaggle.shape)"
      ],
      "execution_count": 0,
      "outputs": [
        {
          "output_type": "stream",
          "text": [
            "(4460, 230)\n",
            "(10000, 231)\n"
          ],
          "name": "stdout"
        }
      ]
    },
    {
      "cell_type": "code",
      "metadata": {
        "id": "Xb0-nXSJum_P",
        "colab_type": "code",
        "colab": {}
      },
      "source": [
        "# удаляем ненужную колонку ID из тестовых данных\n",
        "del test_kaggle['ID']\n",
        "#заменяем все пропуски в датасете на нули:\n",
        "x_test_kaggle = test_kaggle.fillna(0)"
      ],
      "execution_count": 0,
      "outputs": []
    },
    {
      "cell_type": "code",
      "metadata": {
        "id": "Fc_SB85aurCf",
        "colab_type": "code",
        "outputId": "03caf974-6e83-4f08-fdd8-99ed9e495ce8",
        "colab": {
          "base_uri": "https://localhost:8080/",
          "height": 34
        }
      },
      "source": [
        "# Encode first DataFrame 2 (where there is a combination of floats and strings)\n",
        "x_test_kaggle = x_test_kaggle.apply(lambda col: le.fit_transform(col.astype(str)), axis=0, result_type='expand')\n",
        "print(\"x_test_kaggle encoded\")"
      ],
      "execution_count": 0,
      "outputs": [
        {
          "output_type": "stream",
          "text": [
            "x_test_kaggle encoded\n"
          ],
          "name": "stdout"
        }
      ]
    },
    {
      "cell_type": "code",
      "metadata": {
        "id": "F6ZRv0eMwSHU",
        "colab_type": "code",
        "colab": {}
      },
      "source": [
        "# удаление неинформативных фич\n",
        "# Неинформативными считаю фичи, в которых одно константное значение \n",
        "def dropUninformative(data):\n",
        "    df = pd.DataFrame([])\n",
        "    for i in range(data.shape[1]):\n",
        "        if len(np.unique(data.iloc[:,i]))>1:\n",
        "            df[\"Var\"+str(i)] = data.iloc[:,i]\n",
        "    return df"
      ],
      "execution_count": 0,
      "outputs": []
    },
    {
      "cell_type": "code",
      "metadata": {
        "id": "RkDFob64wHjz",
        "colab_type": "code",
        "colab": {}
      },
      "source": [
        "# удаляем неинформативные фичи\n",
        "temp = dropUninformative(pd.DataFrame.append(x_data,x_test_kaggle))"
      ],
      "execution_count": 0,
      "outputs": []
    },
    {
      "cell_type": "code",
      "metadata": {
        "id": "BTe1ac8Y50vq",
        "colab_type": "code",
        "outputId": "e0b66502-e23c-44ad-92fd-6b0667567fdf",
        "colab": {
          "base_uri": "https://localhost:8080/",
          "height": 70
        }
      },
      "source": [
        "clf = GradientBoostingClassifier(n_estimators = 30, random_state = 19).fit(x_data, y_data)\n",
        "pred_answers = clf.predict_proba(x_test_kaggle)\n",
        "answers = pd.DataFrame({'ID':range(0, len(pred_answers)), 'result':pred_answers[:,1]})\n",
        "answers.to_csv('./answers_GradientBoostingClassifier1.csv', sep = ',', index=False)"
      ],
      "execution_count": 0,
      "outputs": [
        {
          "output_type": "stream",
          "text": [
            "/usr/local/lib/python3.6/dist-packages/sklearn/ensemble/_gb.py:1454: DataConversionWarning: A column-vector y was passed when a 1d array was expected. Please change the shape of y to (n_samples, ), for example using ravel().\n",
            "  y = column_or_1d(y, warn=True)\n"
          ],
          "name": "stderr"
        }
      ]
    },
    {
      "cell_type": "markdown",
      "metadata": {
        "id": "Bd8CPiBTSz0_",
        "colab_type": "text"
      },
      "source": [
        "Результат: https://drive.google.com/open?id=144hpnV_jlgoRRjdTcSlvpoWgot7tZcXu"
      ]
    },
    {
      "cell_type": "markdown",
      "metadata": {
        "id": "Ek97a2ipS3v2",
        "colab_type": "text"
      },
      "source": [
        "87 dima ziaziulia 0.68595"
      ]
    },
    {
      "cell_type": "code",
      "metadata": {
        "id": "EBVbf5Vr8DpG",
        "colab_type": "code",
        "colab": {}
      },
      "source": [
        ""
      ],
      "execution_count": 0,
      "outputs": []
    }
  ]
}