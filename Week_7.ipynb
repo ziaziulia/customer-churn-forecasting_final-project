{
  "nbformat": 4,
  "nbformat_minor": 0,
  "metadata": {
    "colab": {
      "name": "Week_7.ipynb",
      "provenance": []
    },
    "kernelspec": {
      "name": "python3",
      "display_name": "Python 3"
    }
  },
  "cells": [
    {
      "cell_type": "code",
      "metadata": {
        "id": "7eLoi4acsd2W",
        "colab_type": "code",
        "colab": {}
      },
      "source": [
        ""
      ],
      "execution_count": 6,
      "outputs": []
    },
    {
      "cell_type": "markdown",
      "metadata": {
        "id": "JHaIsTlovjtp",
        "colab_type": "text"
      },
      "source": [
        "# Финальный проект специализации \"Машинное обучение и анализ данных\""
      ]
    },
    {
      "cell_type": "markdown",
      "metadata": {
        "id": "TB_UwvLrvqKo",
        "colab_type": "text"
      },
      "source": [
        "# Прогнозирование оттока клиентов"
      ]
    },
    {
      "cell_type": "markdown",
      "metadata": {
        "id": "SiI5BYASvxE3",
        "colab_type": "text"
      },
      "source": [
        "Зезюля Дмитрий"
      ]
    },
    {
      "cell_type": "markdown",
      "metadata": {
        "id": "J_h9kocNv3mr",
        "colab_type": "text"
      },
      "source": [
        "## Цели и задачи проекта"
      ]
    },
    {
      "cell_type": "markdown",
      "metadata": {
        "id": "FFHpWf9iwA49",
        "colab_type": "text"
      },
      "source": [
        "В проекте используются данные французской телекоммуникационной компании Orange. В рамках проекта решается задача прогнозирования оттока пользователей, или churn prediction. Эта задача заключается в прогнозировании вероятности того, что клиент перестанет пользоваться сервисом в течение некоторого заданного заранее промежутка времени, например, решит перейти к конкуренту или откажется от использования услуги данного типа вообще.\n",
        "\n",
        "Цель проекта - научиться находить пользователей, склонных к оттоку. Если научиться находить таких пользователей с достаточной точностью заблаговременно, то можно эффективно управлять оттоком: например, выявлять причины оттока; помогать пользователям, попавшим в группу риска, решать их проблемы и задачи; проводить кампании по удержанию.\n",
        "\n",
        "Для нахождения пользователей, склонных к оттоку, мы строим прогнозную модель - модель, позволяющую прогнозировать вероятность того, что пользователь покинет сервис. Конкретно мы строим вероятностную модель бинарной классификации, где целевой класс представляют собой пользователи, покидающие сервис. Вероятность того, что пользователь принадлежит целевому классу и есть целевая величина - вероятность оттока. Соответственно, чем эта вероятность больше, тем больше шансов, что пользователь откажется от использования нашего сервиса."
      ]
    },
    {
      "cell_type": "markdown",
      "metadata": {
        "id": "mHLqXkxPwCIk",
        "colab_type": "text"
      },
      "source": [
        "\n",
        "## Методика измерения качества и критерий успеха"
      ]
    },
    {
      "cell_type": "markdown",
      "metadata": {
        "id": "-XIUoIKtwFsI",
        "colab_type": "text"
      },
      "source": [
        "Модель оценивается на основании метрики AUC-ROC - площади под ROC-кривой. Для тестирования модели мы используем метод кросс-валидации - разбиваем выборку на три блока, каждый из которых по очереди выступает как тестовый. Так как классы в исходной выборке несбалансированы, используем стратификацию - разбиваем выборку так, чтобы в каждом блоке сохранялось соотношение классов. Чем выше показатель AUC-ROC, тем качественнее классификатор, при этом значение 0.5 демонстрирует непригодность выбранного метода классификации (соответствует случайному гаданию)."
      ]
    },
    {
      "cell_type": "markdown",
      "metadata": {
        "id": "bNhpBJUYwILM",
        "colab_type": "text"
      },
      "source": [
        "## Техническое описание решения"
      ]
    },
    {
      "cell_type": "markdown",
      "metadata": {
        "id": "UH1ot5clwLyY",
        "colab_type": "text"
      },
      "source": [
        "Данные, с которыми мы работаем, предоставлены без описания, однако известно, что они состоят из 40 тыс. объектов и включают 230 переменных, из которых первые 190 переменных - числовые, а оставшиеся 40 - категориальные. Ещё одной особенностью нашего набора данных является большое количество пропущенных значений. Прежде чем строить модель, мы сначала предобрабатываем данные: преобразовываем категориальные переменные в числовые, заполняем пропущенные значения и проводим другие преобразования, позволяющие нам улучшить качество модели."
      ]
    },
    {
      "cell_type": "markdown",
      "metadata": {
        "id": "YuW8hM5QwO1E",
        "colab_type": "text"
      },
      "source": [
        "Загружаем необходимые библиотеки."
      ]
    },
    {
      "cell_type": "code",
      "metadata": {
        "id": "Pth4lLIMvhbg",
        "colab_type": "code",
        "colab": {}
      },
      "source": [
        "import pandas as pd\n",
        "import numpy as np"
      ],
      "execution_count": null,
      "outputs": []
    },
    {
      "cell_type": "markdown",
      "metadata": {
        "id": "VDdTJONDwS3Z",
        "colab_type": "text"
      },
      "source": [
        "\n",
        "Загружаем данные."
      ]
    },
    {
      "cell_type": "code",
      "metadata": {
        "id": "F8wEJzk6s43M",
        "colab_type": "code",
        "colab": {}
      },
      "source": [
        "data = pd.read_csv('orange_small_churn_train_data.csv', index_col = 0)"
      ],
      "execution_count": 7,
      "outputs": []
    },
    {
      "cell_type": "markdown",
      "metadata": {
        "id": "Y6kDR-3CwVhe",
        "colab_type": "text"
      },
      "source": [
        "Получаем списки числовых и категориальных переменных."
      ]
    },
    {
      "cell_type": "code",
      "metadata": {
        "id": "XUqRn0PetVX3",
        "colab_type": "code",
        "colab": {}
      },
      "source": [
        "numeric_columns = np.array(data.columns[:190])\n",
        "categorical_columns = np.array(data.columns[190:230])"
      ],
      "execution_count": 8,
      "outputs": []
    },
    {
      "cell_type": "markdown",
      "metadata": {
        "id": "6yP2_8ftwc18",
        "colab_type": "text"
      },
      "source": [
        "Для построения модели выбираем только те переменные, в которых есть хотя бы одно значение, не равное NaN."
      ]
    },
    {
      "cell_type": "code",
      "metadata": {
        "id": "TaWFfJUotVrr",
        "colab_type": "code",
        "colab": {}
      },
      "source": [
        "not_null_numeric_columns = np.array(numeric_columns[np.array(pd.notnull(data[numeric_columns]).any())])\n",
        "not_null_categorical_columns = np.array(categorical_columns[np.array(pd.notnull(data[categorical_columns]).any())])"
      ],
      "execution_count": 9,
      "outputs": []
    },
    {
      "cell_type": "markdown",
      "metadata": {
        "id": "vtcC6yBKwfa2",
        "colab_type": "text"
      },
      "source": [
        "Разбиваем данные на числовые, категориальные и целевую переменную - метки классов \"отток\"/\"не отток\"."
      ]
    },
    {
      "cell_type": "code",
      "metadata": {
        "id": "V5CT8X7WtVuZ",
        "colab_type": "code",
        "colab": {}
      },
      "source": [
        "X_numeric = data[not_null_numeric_columns]\n",
        "X_categorical = data[not_null_categorical_columns]\n",
        "y = data['labels']"
      ],
      "execution_count": 10,
      "outputs": []
    },
    {
      "cell_type": "markdown",
      "metadata": {
        "id": "N3n8ASIiwi8E",
        "colab_type": "text"
      },
      "source": [
        "Заполняем пропущенные числовые значения средними по столбцам, а пропущенные категориальные - строкой 'NA'."
      ]
    },
    {
      "cell_type": "code",
      "metadata": {
        "id": "J869kIgvtc-r",
        "colab_type": "code",
        "colab": {}
      },
      "source": [
        "X_numeric = X_numeric.fillna(X_numeric.mean(0), axis = 0)\n",
        "X_categorical = X_categorical.fillna('NA')\n",
        "y = y.fillna(1.0)"
      ],
      "execution_count": 15,
      "outputs": []
    },
    {
      "cell_type": "markdown",
      "metadata": {
        "id": "S6u2ctA6wlkl",
        "colab_type": "text"
      },
      "source": [
        "Кодируем категориальные признаки частотами: каждую категорию преобразуем в число раз, которое она встречалась в данном признаке."
      ]
    },
    {
      "cell_type": "code",
      "metadata": {
        "id": "kvwkBWTwtdDu",
        "colab_type": "code",
        "colab": {}
      },
      "source": [
        "for var in not_null_categorical_columns:\n",
        "    value_counts = X_categorical[var].value_counts()\n",
        "    X_categorical[var] = np.array([value_counts[x] for x in X_categorical[var]])"
      ],
      "execution_count": 16,
      "outputs": []
    },
    {
      "cell_type": "markdown",
      "metadata": {
        "id": "sK5A4xCywpl2",
        "colab_type": "text"
      },
      "source": [
        "Объединяем числовые и категориальные данные."
      ]
    },
    {
      "cell_type": "code",
      "metadata": {
        "id": "dVJD5UQYtdGZ",
        "colab_type": "code",
        "colab": {}
      },
      "source": [
        "X = pd.concat([X_numeric, X_categorical], axis = 1)"
      ],
      "execution_count": 17,
      "outputs": []
    },
    {
      "cell_type": "markdown",
      "metadata": {
        "id": "EQpmI-RHwsXc",
        "colab_type": "text"
      },
      "source": [
        "Для построения модели используем градиентный бустинг, реализацию xgboost.XGBClassifier. Обучаем модель на наших данных."
      ]
    },
    {
      "cell_type": "code",
      "metadata": {
        "id": "Q59BsTg-tdJL",
        "colab_type": "code",
        "colab": {
          "base_uri": "https://localhost:8080/",
          "height": 134
        },
        "outputId": "d890c7ef-8654-432b-f0fe-db0d374bd6c3"
      },
      "source": [
        "import xgboost as xgb\n",
        "xgb_clf = xgb.XGBClassifier()\n",
        "xgb_clf.fit(X, y)"
      ],
      "execution_count": 18,
      "outputs": [
        {
          "output_type": "execute_result",
          "data": {
            "text/plain": [
              "XGBClassifier(base_score=0.5, booster='gbtree', colsample_bylevel=1,\n",
              "              colsample_bynode=1, colsample_bytree=1, gamma=0,\n",
              "              learning_rate=0.1, max_delta_step=0, max_depth=3,\n",
              "              min_child_weight=1, missing=None, n_estimators=100, n_jobs=1,\n",
              "              nthread=None, objective='binary:logistic', random_state=0,\n",
              "              reg_alpha=0, reg_lambda=1, scale_pos_weight=1, seed=None,\n",
              "              silent=None, subsample=1, verbosity=1)"
            ]
          },
          "metadata": {
            "tags": []
          },
          "execution_count": 18
        }
      ]
    },
    {
      "cell_type": "markdown",
      "metadata": {
        "id": "kx61lM8gwv1D",
        "colab_type": "text"
      },
      "source": [
        "## Выводы о качестве модели"
      ]
    },
    {
      "cell_type": "markdown",
      "metadata": {
        "id": "MPRT5cyvw1uE",
        "colab_type": "text"
      },
      "source": [
        "Оцениваем качество с помощью кросс-валидации и считаем среднюю AUC-ROC."
      ]
    },
    {
      "cell_type": "code",
      "metadata": {
        "id": "csNYokXotdLv",
        "colab_type": "code",
        "colab": {
          "base_uri": "https://localhost:8080/",
          "height": 34
        },
        "outputId": "fab98e16-b867-4e92-d386-0d2103b15223"
      },
      "source": [
        "from sklearn.model_selection import cross_val_score, StratifiedKFold\n",
        "scores = cross_val_score(xgb.XGBClassifier(), X, y, scoring = 'roc_auc', cv = StratifiedKFold(3))\n",
        "print ('Средняя AUC-ROC: ', scores.mean())"
      ],
      "execution_count": 19,
      "outputs": [
        {
          "output_type": "stream",
          "text": [
            "Средняя AUC-ROC:  0.7292516503943558\n"
          ],
          "name": "stdout"
        }
      ]
    },
    {
      "cell_type": "markdown",
      "metadata": {
        "id": "hOYFUBgfw-OV",
        "colab_type": "text"
      },
      "source": [
        "Видим, что средняя AUC-ROC равна 0.74. Это означает, что модель работает существенно лучше, чем случайное угадывание."
      ]
    },
    {
      "cell_type": "markdown",
      "metadata": {
        "id": "9OdEZJrzw_Wd",
        "colab_type": "text"
      },
      "source": [
        "Строим кривые обучения - постепенно наращиваем размер обучающей выборки и смотрим, как меняется качество на обучающей и тестовой выборках."
      ]
    },
    {
      "cell_type": "code",
      "metadata": {
        "id": "a-O7bcTyuj11",
        "colab_type": "code",
        "colab": {
          "base_uri": "https://localhost:8080/",
          "height": 279
        },
        "outputId": "c28f1bf3-d733-4ca9-d2f0-ac851ac29bb9"
      },
      "source": [
        "from sklearn.model_selection import learning_curve\n",
        "import matplotlib.pyplot as plt\n",
        "%matplotlib inline\n",
        "train_sizes_abs, train_scores, test_scores = learning_curve(xgb.XGBClassifier(), X, y, cv = StratifiedKFold(3),\n",
        "                                                            scoring = 'roc_auc')\n",
        "train_scores_mean = np.mean(train_scores, axis = 1)\n",
        "test_scores_mean = np.mean(test_scores, axis = 1)\n",
        "plt.figure()\n",
        "plt.xlabel('Training examples')\n",
        "plt.ylabel('Score')\n",
        "plt.grid()\n",
        "plt.plot(train_sizes_abs, train_scores_mean, 'o-', color = 'r', label = 'Training score')\n",
        "plt.plot(train_sizes_abs, test_scores_mean, 'o-', color = 'g', label = 'Cross-validation score')\n",
        "plt.legend(loc = 'best')\n",
        "plt.show()"
      ],
      "execution_count": 20,
      "outputs": [
        {
          "output_type": "display_data",
          "data": {
            "image/png": "[encoded data removed]",
            "text/plain": [
              "<Figure size 432x288 with 1 Axes>"
            ]
          },
          "metadata": {
            "tags": [],
            "needs_background": "light"
          }
        }
      ]
    },
    {
      "cell_type": "markdown",
      "metadata": {
        "id": "DAS-AxElxKmz",
        "colab_type": "text"
      },
      "source": [
        "Видим, что с увеличением размера данных качество на тестовой выборке (Cross-validation score) увеличивается, а на обучающей (Training score) сокращается. Значит, в дальнейшем можно пробовать наращивать размер данных для увеличения качества."
      ]
    },
    {
      "cell_type": "markdown",
      "metadata": {
        "id": "--pI3I6oxLxe",
        "colab_type": "text"
      },
      "source": [
        "Перечисляем двадцать лучших признаков и считаем вклад каждого из них в модель."
      ]
    },
    {
      "cell_type": "code",
      "metadata": {
        "id": "-cHP5tpJuobE",
        "colab_type": "code",
        "colab": {
          "base_uri": "https://localhost:8080/",
          "height": 639
        },
        "outputId": "22fa4701-270c-42d7-ccab-648dd0a64cd5"
      },
      "source": [
        "features = pd.DataFrame({'feature' : X.columns, 'feature_importance' : xgb_clf.feature_importances_})\n",
        "features.sort_values('feature_importance', ascending = False).reset_index(drop = True)[:20]"
      ],
      "execution_count": 21,
      "outputs": [
        {
          "output_type": "execute_result",
          "data": {
            "text/html": [
              "<div>\n",
              "<style scoped>\n",
              "    .dataframe tbody tr th:only-of-type {\n",
              "        vertical-align: middle;\n",
              "    }\n",
              "\n",
              "    .dataframe tbody tr th {\n",
              "        vertical-align: top;\n",
              "    }\n",
              "\n",
              "    .dataframe thead th {\n",
              "        text-align: right;\n",
              "    }\n",
              "</style>\n",
              "<table border=\"1\" class=\"dataframe\">\n",
              "  <thead>\n",
              "    <tr style=\"text-align: right;\">\n",
              "      <th></th>\n",
              "      <th>feature</th>\n",
              "      <th>feature_importance</th>\n",
              "    </tr>\n",
              "  </thead>\n",
              "  <tbody>\n",
              "    <tr>\n",
              "      <th>0</th>\n",
              "      <td>Var212</td>\n",
              "      <td>0.046552</td>\n",
              "    </tr>\n",
              "    <tr>\n",
              "      <th>1</th>\n",
              "      <td>Var126</td>\n",
              "      <td>0.045485</td>\n",
              "    </tr>\n",
              "    <tr>\n",
              "      <th>2</th>\n",
              "      <td>Var13</td>\n",
              "      <td>0.036562</td>\n",
              "    </tr>\n",
              "    <tr>\n",
              "      <th>3</th>\n",
              "      <td>Var140</td>\n",
              "      <td>0.031807</td>\n",
              "    </tr>\n",
              "    <tr>\n",
              "      <th>4</th>\n",
              "      <td>Var73</td>\n",
              "      <td>0.031649</td>\n",
              "    </tr>\n",
              "    <tr>\n",
              "      <th>5</th>\n",
              "      <td>Var218</td>\n",
              "      <td>0.031622</td>\n",
              "    </tr>\n",
              "    <tr>\n",
              "      <th>6</th>\n",
              "      <td>Var74</td>\n",
              "      <td>0.030212</td>\n",
              "    </tr>\n",
              "    <tr>\n",
              "      <th>7</th>\n",
              "      <td>Var205</td>\n",
              "      <td>0.030155</td>\n",
              "    </tr>\n",
              "    <tr>\n",
              "      <th>8</th>\n",
              "      <td>Var189</td>\n",
              "      <td>0.028444</td>\n",
              "    </tr>\n",
              "    <tr>\n",
              "      <th>9</th>\n",
              "      <td>Var113</td>\n",
              "      <td>0.022838</td>\n",
              "    </tr>\n",
              "    <tr>\n",
              "      <th>10</th>\n",
              "      <td>Var76</td>\n",
              "      <td>0.021735</td>\n",
              "    </tr>\n",
              "    <tr>\n",
              "      <th>11</th>\n",
              "      <td>Var65</td>\n",
              "      <td>0.019020</td>\n",
              "    </tr>\n",
              "    <tr>\n",
              "      <th>12</th>\n",
              "      <td>Var28</td>\n",
              "      <td>0.018693</td>\n",
              "    </tr>\n",
              "    <tr>\n",
              "      <th>13</th>\n",
              "      <td>Var202</td>\n",
              "      <td>0.018469</td>\n",
              "    </tr>\n",
              "    <tr>\n",
              "      <th>14</th>\n",
              "      <td>Var163</td>\n",
              "      <td>0.017034</td>\n",
              "    </tr>\n",
              "    <tr>\n",
              "      <th>15</th>\n",
              "      <td>Var207</td>\n",
              "      <td>0.016874</td>\n",
              "    </tr>\n",
              "    <tr>\n",
              "      <th>16</th>\n",
              "      <td>Var81</td>\n",
              "      <td>0.015665</td>\n",
              "    </tr>\n",
              "    <tr>\n",
              "      <th>17</th>\n",
              "      <td>Var112</td>\n",
              "      <td>0.015097</td>\n",
              "    </tr>\n",
              "    <tr>\n",
              "      <th>18</th>\n",
              "      <td>Var134</td>\n",
              "      <td>0.015004</td>\n",
              "    </tr>\n",
              "    <tr>\n",
              "      <th>19</th>\n",
              "      <td>Var217</td>\n",
              "      <td>0.014715</td>\n",
              "    </tr>\n",
              "  </tbody>\n",
              "</table>\n",
              "</div>"
            ],
            "text/plain": [
              "   feature  feature_importance\n",
              "0   Var212            0.046552\n",
              "1   Var126            0.045485\n",
              "2    Var13            0.036562\n",
              "3   Var140            0.031807\n",
              "4    Var73            0.031649\n",
              "5   Var218            0.031622\n",
              "6    Var74            0.030212\n",
              "7   Var205            0.030155\n",
              "8   Var189            0.028444\n",
              "9   Var113            0.022838\n",
              "10   Var76            0.021735\n",
              "11   Var65            0.019020\n",
              "12   Var28            0.018693\n",
              "13  Var202            0.018469\n",
              "14  Var163            0.017034\n",
              "15  Var207            0.016874\n",
              "16   Var81            0.015665\n",
              "17  Var112            0.015097\n",
              "18  Var134            0.015004\n",
              "19  Var217            0.014715"
            ]
          },
          "metadata": {
            "tags": []
          },
          "execution_count": 21
        }
      ]
    },
    {
      "cell_type": "markdown",
      "metadata": {
        "id": "Gzy2HqbLxTp2",
        "colab_type": "text"
      },
      "source": [
        "Видим, что наибольший вклад в модель внесли признаки Var126, Var212, Var13. Замыкает топ-20 признак Var217."
      ]
    },
    {
      "cell_type": "markdown",
      "metadata": {
        "id": "RXQ2TFp2xgtd",
        "colab_type": "text"
      },
      "source": [
        "### Ожидаемый экономический эффект от использования модели"
      ]
    },
    {
      "cell_type": "markdown",
      "metadata": {
        "id": "TnBPtQekxu5m",
        "colab_type": "text"
      },
      "source": [
        "Для подсчёта экономического эффекта от использования модели вводим следующие параметры:\n",
        "\n",
        "количество денег, которое в среднем приносит один пользователь в месяц (arpu)\n",
        "количество денег, которое в среднем мы будем вкладывать в удержание одного пользователя (retention cost)\n",
        "вероятность, с которой пользователь примет наше предложение (probability)\n",
        "топ % пользователей, склонных к оттоку согласно модели, которые будут участвовать в кампании (top)\n",
        "количество времени, на которое нам в среднем удастся удержать клиента, если он примет наше предложение, в месяцах (time)"
      ]
    },
    {
      "cell_type": "markdown",
      "metadata": {
        "id": "gOuosEpVxyiE",
        "colab_type": "text"
      },
      "source": [
        "Экономический эффект зависит от того, насколько качественная наша модель. Выбираем только тех пользователей, которых наша модель предсказала как склонных к оттоку, и записывам в переменную true_values настоящие ответы на этих пользователях."
      ]
    },
    {
      "cell_type": "code",
      "metadata": {
        "id": "p76NPdm1uuQf",
        "colab_type": "code",
        "colab": {}
      },
      "source": [
        "y_predictions = xgb_clf.predict(X)\n",
        "y_probabilities = xgb_clf.predict_proba(X)[:, 1]\n",
        "labels = pd.DataFrame({'prediction' : y_predictions, 'probability' : y_probabilities, 'true_value' : np.array(y)})\n",
        "churn_predicted = labels[labels.prediction == 1].sort_values('probability', ascending = False).reset_index(drop = True)\n",
        "true_values = np.array(churn_predicted.true_value)"
      ],
      "execution_count": 22,
      "outputs": []
    },
    {
      "cell_type": "markdown",
      "metadata": {
        "id": "0R3qEOrmx18q",
        "colab_type": "text"
      },
      "source": [
        "Определяем функцию для подсчёта экономического эффекта в зависимости от исходных параметров."
      ]
    },
    {
      "cell_type": "code",
      "metadata": {
        "id": "E8s_v-ocuuW-",
        "colab_type": "code",
        "colab": {}
      },
      "source": [
        "def effect(arpu, retention_cost, probability, top, time):\n",
        "    number_of_users = int(np.floor(top/100. * len(true_values)))\n",
        "    number_of_churned = sum(true_values[:number_of_users] == 1)\n",
        "    number_of_accepted = int(np.floor(probability * number_of_churned))\n",
        "    cost = number_of_users * retention_cost\n",
        "    income = number_of_accepted * arpu * time\n",
        "    return income - cost"
      ],
      "execution_count": 23,
      "outputs": []
    },
    {
      "cell_type": "markdown",
      "metadata": {
        "id": "pM8Tv_7sx5CY",
        "colab_type": "text"
      },
      "source": [
        "Фиксируем параметры arpu = 1000, retention cost = 100, probability = 0.3, time = 3 и строим график изменения экономического эффекта в зависимости от параметра top."
      ]
    },
    {
      "cell_type": "code",
      "metadata": {
        "id": "9cRIB9Wvuogk",
        "colab_type": "code",
        "colab": {
          "base_uri": "https://localhost:8080/",
          "height": 279
        },
        "outputId": "dc5b39f5-9fde-4c16-ffae-5f5ced963b47"
      },
      "source": [
        "tops = np.arange(1, 101)\n",
        "effects = np.array([effect(1000, 100, 0.3, top, 3) for top in tops])\n",
        "plt.figure()\n",
        "plt.xlabel('Top')\n",
        "plt.ylabel('Economic effect')\n",
        "plt.grid()\n",
        "plt.plot(tops, effects)\n",
        "plt.show()"
      ],
      "execution_count": 24,
      "outputs": [
        {
          "output_type": "display_data",
          "data": {
            "image/png": "[encoded data removed]",
            "text/plain": [
              "<Figure size 432x288 with 1 Axes>"
            ]
          },
          "metadata": {
            "tags": [],
            "needs_background": "light"
          }
        }
      ]
    },
    {
      "cell_type": "markdown",
      "metadata": {
        "id": "yPHX0ZV3x7_6",
        "colab_type": "text"
      },
      "source": [
        "Видим, что чем больше топ пользователей, который мы берём, тем в среднем выше экономический эффект. Это говорит о том, что модель качественная. Считаем оптимальный топ пользователей при таких параметрах и экономический эффект при нём."
      ]
    },
    {
      "cell_type": "code",
      "metadata": {
        "id": "2T6fEreDu_bI",
        "colab_type": "code",
        "colab": {
          "base_uri": "https://localhost:8080/",
          "height": 50
        },
        "outputId": "0c970e43-4575-43b2-9e1e-f6dacb1ba35d"
      },
      "source": [
        "index = np.argsort(effects)[-1]\n",
        "print ('Оптимальный топ: ', tops[index])\n",
        "print ('Экономический эффект: ', effects[index])"
      ],
      "execution_count": 25,
      "outputs": [
        {
          "output_type": "stream",
          "text": [
            "Оптимальный топ:  97\n",
            "Экономический эффект:  26300\n"
          ],
          "name": "stdout"
        }
      ]
    },
    {
      "cell_type": "markdown",
      "metadata": {
        "id": "2_ubX5wdyCpL",
        "colab_type": "text"
      },
      "source": [
        "### Дальнейшие предложения"
      ]
    },
    {
      "cell_type": "markdown",
      "metadata": {
        "id": "R7CvT8TlyKmS",
        "colab_type": "text"
      },
      "source": [
        "\n",
        "\n",
        "1.   Для оценки качества работы модели в продакшн можно использовать A/B-тестирование. Для этого нужно разбить всех пользователей на два сегмента: контрольный сегмент A (где мы используем старую модель прогнозирования оттока или не используем никакую модель вообще) и тестовый сегмент B (где мы используем нашу новую модель), и сравнить уровни оттока у этих двух сегментов. Если уровень оттока у сегмента B меньше, чем у сегмента A, и отличие статистически значимо, то мы можем сказать, что наша модель работает.\n",
        "\n",
        "2.   Для того, чтобы повышать качество работы модели, нужно дообучать её на новых данных. Также можно пробовать изменять саму модель - использовать новые алгоритмы, отбирать признаки, искать аномалии в данных и т.д.\n",
        "\n",
        "3.   Нужно следить за тем, чтобы модель всегда оставалась актуальной, - со временем могут появиться новые услуги, а старые исчезнуть, и наши данные устареют.\n",
        "\n",
        "4.   Можно пробовать формировать гипотезы относительно причин оттока пользователей, и на основании этого принимать меры по удержанию.\n",
        "\n",
        "\n",
        "\n"
      ]
    },
    {
      "cell_type": "markdown",
      "metadata": {
        "id": "wHPSGpicyep5",
        "colab_type": "text"
      },
      "source": [
        "### Итог"
      ]
    },
    {
      "cell_type": "markdown",
      "metadata": {
        "id": "L7zN8hUNylx6",
        "colab_type": "text"
      },
      "source": [
        "Построена модель, позволяющая прогнозировать вероятность того, что пользователь покинет сервис. В дальнейшем эти данные можно использовать для выявления пользователей, склонных к оттоку, и принимать меры по их удержанию."
      ]
    },
    {
      "cell_type": "code",
      "metadata": {
        "id": "pAZ2CwckykFV",
        "colab_type": "code",
        "colab": {}
      },
      "source": [
        ""
      ],
      "execution_count": null,
      "outputs": []
    }
  ]
}