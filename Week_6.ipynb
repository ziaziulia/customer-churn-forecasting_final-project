{
  "nbformat": 4,
  "nbformat_minor": 0,
  "metadata": {
    "colab": {
      "name": "Week_6",
      "provenance": []
    },
    "kernelspec": {
      "name": "python3",
      "display_name": "Python 3"
    }
  },
  "cells": [
    {
      "cell_type": "markdown",
      "metadata": {
        "id": "xdPbPyaYcoea",
        "colab_type": "text"
      },
      "source": [
        "Сначала построим нашу модель."
      ]
    },
    {
      "cell_type": "code",
      "metadata": {
        "id": "iGqka_ppcq_H",
        "colab_type": "code",
        "colab": {}
      },
      "source": [
        "import pandas as pd\n",
        "import numpy as np"
      ],
      "execution_count": 0,
      "outputs": []
    },
    {
      "cell_type": "code",
      "metadata": {
        "id": "NbOn-sbgcyed",
        "colab_type": "code",
        "colab": {}
      },
      "source": [
        "train = pd.read_csv('orange_small_churn_train_data.csv', index_col = 0)"
      ],
      "execution_count": 0,
      "outputs": []
    },
    {
      "cell_type": "code",
      "metadata": {
        "id": "7CJXTZNec3dJ",
        "colab_type": "code",
        "colab": {}
      },
      "source": [
        "numeric_columns = np.array(train.columns[:190])\n",
        "categorical_columns = np.array(train.columns[190:230])"
      ],
      "execution_count": 0,
      "outputs": []
    },
    {
      "cell_type": "code",
      "metadata": {
        "id": "YS6O3e2Rc3k0",
        "colab_type": "code",
        "colab": {}
      },
      "source": [
        "not_null_numeric_columns = np.array(numeric_columns[np.array(pd.notnull(train[numeric_columns]).any())])\n",
        "not_null_categorical_columns = np.array(categorical_columns[np.array(pd.notnull(train[categorical_columns]).any())])"
      ],
      "execution_count": 0,
      "outputs": []
    },
    {
      "cell_type": "code",
      "metadata": {
        "id": "1eyAs4Svc3nv",
        "colab_type": "code",
        "colab": {}
      },
      "source": [
        "train_numeric = train[not_null_numeric_columns]\n",
        "train_categorical = train[not_null_categorical_columns]\n",
        "y_train = train['labels']"
      ],
      "execution_count": 0,
      "outputs": []
    },
    {
      "cell_type": "code",
      "metadata": {
        "id": "Ti-IedE8c3qj",
        "colab_type": "code",
        "colab": {}
      },
      "source": [
        "train_numeric = train_numeric.fillna(train_numeric.mean(0), axis = 0)\n",
        "train_categorical = train_categorical.fillna('NA')\n",
        "y_train = y_train.fillna(1.0)"
      ],
      "execution_count": 0,
      "outputs": []
    },
    {
      "cell_type": "code",
      "metadata": {
        "id": "oJtEMkpyc3tJ",
        "colab_type": "code",
        "colab": {}
      },
      "source": [
        "for var in not_null_categorical_columns:\n",
        "    value_counts = train_categorical[var].value_counts()\n",
        "    train_categorical[var] = np.array([value_counts[x] for x in train_categorical[var]])"
      ],
      "execution_count": 0,
      "outputs": []
    },
    {
      "cell_type": "code",
      "metadata": {
        "id": "GC8MNtW-c4Dr",
        "colab_type": "code",
        "colab": {}
      },
      "source": [
        "X_train = pd.concat([train_numeric, train_categorical], axis = 1)"
      ],
      "execution_count": 0,
      "outputs": []
    },
    {
      "cell_type": "code",
      "metadata": {
        "id": "SusXa30EdN6A",
        "colab_type": "code",
        "colab": {}
      },
      "source": [
        "from sklearn.feature_selection import VarianceThreshold\n",
        "X_train = VarianceThreshold().fit_transform(X_train)"
      ],
      "execution_count": 0,
      "outputs": []
    },
    {
      "cell_type": "code",
      "metadata": {
        "id": "aqgNVicRdN8t",
        "colab_type": "code",
        "colab": {}
      },
      "source": [
        "from sklearn.feature_selection import SelectKBest\n",
        "X_train = SelectKBest(k = 40).fit_transform(X_train, y_train)"
      ],
      "execution_count": 0,
      "outputs": []
    },
    {
      "cell_type": "code",
      "metadata": {
        "id": "2ux7E6_0dN_e",
        "colab_type": "code",
        "colab": {}
      },
      "source": [
        "import xgboost as xgb\n",
        "xgb_clf = xgb.XGBClassifier()\n",
        "xgb_clf.fit(X_train, y_train)\n",
        "y_predictions = xgb_clf.predict(X_train)\n",
        "y_probabilities = xgb_clf.predict_proba(X_train)[:, 1]"
      ],
      "execution_count": 0,
      "outputs": []
    },
    {
      "cell_type": "markdown",
      "metadata": {
        "id": "TeGJkP_8dXMW",
        "colab_type": "text"
      },
      "source": [
        "Выберем только тех пользователей, которых наша модель предсказала как склонных к оттоку, и запишем в переменную true_values настоящие ответы на этих пользователях."
      ]
    },
    {
      "cell_type": "code",
      "metadata": {
        "id": "NBWTUEE-dT9o",
        "colab_type": "code",
        "colab": {}
      },
      "source": [
        "labels = pd.DataFrame({'prediction' : y_predictions, 'probability' : y_probabilities, 'true_value' : np.array(y_train)})"
      ],
      "execution_count": 0,
      "outputs": []
    },
    {
      "cell_type": "code",
      "metadata": {
        "id": "FqmfU2-ddUA0",
        "colab_type": "code",
        "colab": {}
      },
      "source": [
        "churn_predicted = labels[labels.prediction == 1].sort_values('probability', ascending = False).reset_index(drop = True)"
      ],
      "execution_count": 0,
      "outputs": []
    },
    {
      "cell_type": "code",
      "metadata": {
        "id": "igc3GdY3dhIh",
        "colab_type": "code",
        "colab": {}
      },
      "source": [
        "true_values = np.array(churn_predicted.true_value)"
      ],
      "execution_count": 0,
      "outputs": []
    },
    {
      "cell_type": "markdown",
      "metadata": {
        "id": "uYhq38XoduW2",
        "colab_type": "text"
      },
      "source": [
        "Введём следующие параметры:\n",
        "\n",
        "- количество денег, которое в среднем приносит один пользователь в месяц = 1000\n",
        "- количество денег, которое в среднем мы будем вкладывать в удержание одного пользователя = 100\n",
        "вероятность, с которой пользователь примет наше предложение = 0.3\n",
        "- количество пользователей, которое будет участвовать в кампании = топ 25% пользователей, склонных к оттоку согласно модели"
      ]
    },
    {
      "cell_type": "markdown",
      "metadata": {
        "id": "7E3N0LLyhlab",
        "colab_type": "text"
      },
      "source": [
        "1. Введите еще несколько параметров и на их основе постройте простую экономическую модель: формулу по которой в зависимости от значения исходных параметров вы сможете рассчитать экономический эффект от проведения кампании (= сколько денег вы получили (или наоборот потеряли) от проведения кампании по удержанию) с использование вашей модели."
      ]
    },
    {
      "cell_type": "code",
      "metadata": {
        "id": "NfqrMfpMdtr6",
        "colab_type": "code",
        "colab": {}
      },
      "source": [
        "def effect(arpu, retention_cost, probability, top):\n",
        "    number_of_users = int(np.floor(top * len(true_values)))\n",
        "    number_of_churned = sum(true_values[:number_of_users] == 1)\n",
        "    number_of_accepted = int(np.floor(probability * number_of_churned))\n",
        "    cost = number_of_users * retention_cost\n",
        "    income = number_of_accepted * arpu\n",
        "    return income - cost"
      ],
      "execution_count": 0,
      "outputs": []
    },
    {
      "cell_type": "code",
      "metadata": {
        "id": "_q5oobyddhP5",
        "colab_type": "code",
        "colab": {
          "base_uri": "https://localhost:8080/",
          "height": 34
        },
        "outputId": "7e2dcb4a-f5ba-495e-c07e-92c84f76b22a"
      },
      "source": [
        "effect(1000, 100, 0.3, 0.25)"
      ],
      "execution_count": 17,
      "outputs": [
        {
          "output_type": "execute_result",
          "data": {
            "text/plain": [
              "2000"
            ]
          },
          "metadata": {
            "tags": []
          },
          "execution_count": 17
        }
      ]
    },
    {
      "cell_type": "markdown",
      "metadata": {
        "id": "ba_RT34Oh0Bg",
        "colab_type": "text"
      },
      "source": [
        "При заданных параметрах экономический эффект равен 2000."
      ]
    },
    {
      "cell_type": "markdown",
      "metadata": {
        "id": "883WZub_ixlX",
        "colab_type": "text"
      },
      "source": [
        "2. Исходя из введенных параметров проанализируйте, какой топ пользователей, склонных к оттоку согласно модели, оптимально выбрать для проведения кампании по удержанию для таким образом, чтобы экономический эффект был наибольшим?"
      ]
    },
    {
      "cell_type": "code",
      "metadata": {
        "id": "IiXfQX7Sdha1",
        "colab_type": "code",
        "colab": {
          "base_uri": "https://localhost:8080/",
          "height": 34
        },
        "outputId": "5cda5f25-5bfa-47e8-8e7a-828473d50554"
      },
      "source": [
        "effects = np.array([[effect(1000, 100, 0.3, top), top] for top in np.arange(0, 1.01, 0.01)])\n",
        "effects[effects[:, 0].argsort()][-1]"
      ],
      "execution_count": 18,
      "outputs": [
        {
          "output_type": "execute_result",
          "data": {
            "text/plain": [
              "array([6.1e+03, 9.3e-01])"
            ]
          },
          "metadata": {
            "tags": []
          },
          "execution_count": 18
        }
      ]
    },
    {
      "cell_type": "markdown",
      "metadata": {
        "id": "A-uqPkTwjDuJ",
        "colab_type": "text"
      },
      "source": [
        "Оптимальный топ - 61%. Экономический эффект при нём равен 9300."
      ]
    },
    {
      "cell_type": "markdown",
      "metadata": {
        "id": "hp1BXA_Nj54M",
        "colab_type": "text"
      },
      "source": [
        "3. Попробуйте усложнить экономическую модель. Добавьте еще несколько параметров и поиграйте с ними (например, измените стоимость удержания и вероятность, с которой пользователь принимает предложение), проанализируйте как меняется оптимальный размер топа?"
      ]
    },
    {
      "cell_type": "markdown",
      "metadata": {
        "id": "2e6dffM6kWN3",
        "colab_type": "text"
      },
      "source": [
        "Введём ещё один дополнительный параметр time - количество времени, на которое нам в среднем удастся удержать клиента, если он примет наше предложение = 3 месяца."
      ]
    },
    {
      "cell_type": "markdown",
      "metadata": {
        "id": "JhNMYymPkq2d",
        "colab_type": "text"
      },
      "source": [
        "Тогда формула для подсчёта экономического эффекта примет вид:"
      ]
    },
    {
      "cell_type": "markdown",
      "metadata": {
        "id": "DgZbZkMHkmEC",
        "colab_type": "text"
      },
      "source": [
        "effect=number of accepted×ARPU×time−number of users×retention cost"
      ]
    },
    {
      "cell_type": "code",
      "metadata": {
        "id": "2-cCJxChkn6j",
        "colab_type": "code",
        "colab": {}
      },
      "source": [
        "def effect(arpu, retention_cost, probability, top, time):\n",
        "    number_of_users = int(np.floor(top * len(true_values)))\n",
        "    number_of_churned = sum(true_values[:number_of_users] == 1)\n",
        "    number_of_accepted = int(np.floor(probability * number_of_churned))\n",
        "    cost = number_of_users * retention_cost\n",
        "    income = number_of_accepted * arpu * time\n",
        "    return income - cost"
      ],
      "execution_count": 0,
      "outputs": []
    },
    {
      "cell_type": "code",
      "metadata": {
        "id": "NRp8p_9PkzwO",
        "colab_type": "code",
        "colab": {}
      },
      "source": [
        "import matplotlib.pyplot as plt\n",
        "%matplotlib inline"
      ],
      "execution_count": 0,
      "outputs": []
    },
    {
      "cell_type": "markdown",
      "metadata": {
        "id": "FGVQ764Ompty",
        "colab_type": "text"
      },
      "source": [
        "Построим график изменения оптимального размера топа в зависимости от стоимости удержания."
      ]
    },
    {
      "cell_type": "code",
      "metadata": {
        "id": "0ucCt9eTmn7s",
        "colab_type": "code",
        "colab": {
          "base_uri": "https://localhost:8080/",
          "height": 279
        },
        "outputId": "99a57886-8843-4d61-aa21-133edaeee358"
      },
      "source": [
        "retention_costs = np.arange(100, 1000, 100)\n",
        "tops = []\n",
        "for retention_cost in retention_costs:\n",
        "    effects = np.array([[effect(1000, retention_cost, 0.3, top, 3), top] for top in np.arange(0, 1.01, 0.01)])\n",
        "    tops.append(effects[effects[:, 0].argsort()][-1][1])\n",
        "tops = np.array(tops)\n",
        "plt.figure()\n",
        "plt.xlabel('Retention cost')\n",
        "plt.ylabel('Top')\n",
        "plt.grid()\n",
        "plt.plot(retention_costs, tops, 'o-')\n",
        "plt.show()"
      ],
      "execution_count": 22,
      "outputs": [
        {
          "output_type": "display_data",
          "data": {
            "image/png": "[encoded data removed]",
            "text/plain": [
              "<Figure size 432x288 with 1 Axes>"
            ]
          },
          "metadata": {
            "tags": [],
            "needs_background": "light"
          }
        }
      ]
    },
    {
      "cell_type": "markdown",
      "metadata": {
        "id": "Zscz43ymoN0v",
        "colab_type": "text"
      },
      "source": [
        "Видим, что чем выше стоимость удержания, тем меньше оптимальный размер топа, что логично."
      ]
    },
    {
      "cell_type": "markdown",
      "metadata": {
        "id": "h4fTuiCuoT5r",
        "colab_type": "text"
      },
      "source": [
        "Построим график изменения оптимального размера топа в зависимости от вероятности, с которой пользователь принимает предложение."
      ]
    },
    {
      "cell_type": "code",
      "metadata": {
        "id": "Q3yWA3hxmya6",
        "colab_type": "code",
        "colab": {
          "base_uri": "https://localhost:8080/",
          "height": 279
        },
        "outputId": "8fae8696-31e6-4341-9f9e-42518cb96013"
      },
      "source": [
        "probabilities = np.arange(0.05, 1.05, 0.05)\n",
        "tops = []\n",
        "for probability in probabilities:\n",
        "    effects = np.array([[effect(1000, 100, probability, top, 3), top] for top in np.arange(0, 1.01, 0.01)])\n",
        "    tops.append(effects[effects[:, 0].argsort()][-1][1])\n",
        "tops = np.array(tops)\n",
        "plt.figure()\n",
        "plt.xlabel('Probability')\n",
        "plt.ylabel('Top')\n",
        "plt.grid()\n",
        "plt.plot(probabilities, tops, 'o-')\n",
        "plt.show()"
      ],
      "execution_count": 23,
      "outputs": [
        {
          "output_type": "display_data",
          "data": {
            "image/png": "[encoded data removed]",
            "text/plain": [
              "<Figure size 432x288 with 1 Axes>"
            ]
          },
          "metadata": {
            "tags": [],
            "needs_background": "light"
          }
        }
      ]
    },
    {
      "cell_type": "markdown",
      "metadata": {
        "id": "Ggdcts_6ovGV",
        "colab_type": "text"
      },
      "source": [
        "Видим, что чем выше вероятность, с которой пользователь принимает предложение, тем больше оптимальный размер топа, что логично."
      ]
    },
    {
      "cell_type": "markdown",
      "metadata": {
        "id": "Rp6tjRNsozms",
        "colab_type": "text"
      },
      "source": [
        "4. Всегда ли применение модели экономически оправданно? Приведите пример набора значений параметров, при которых применение модели перестает быть оправданным."
      ]
    },
    {
      "cell_type": "markdown",
      "metadata": {
        "id": "oBmD8Lido8vW",
        "colab_type": "text"
      },
      "source": [
        "Нет, не всегда. Применение модели не оправдано, когда доход с одного пользователя низкий (к примеру, 500), а стоимость удержания высокая (к примеру, 1000)."
      ]
    },
    {
      "cell_type": "code",
      "metadata": {
        "id": "k50JYj3Eo9TR",
        "colab_type": "code",
        "colab": {
          "base_uri": "https://localhost:8080/",
          "height": 34
        },
        "outputId": "2b67d2c9-4c80-4451-fa42-a4632ada1efa"
      },
      "source": [
        "effect(500, 1000, 0.3, 0.25, 3)"
      ],
      "execution_count": 24,
      "outputs": [
        {
          "output_type": "execute_result",
          "data": {
            "text/plain": [
              "-5500"
            ]
          },
          "metadata": {
            "tags": []
          },
          "execution_count": 24
        }
      ]
    },
    {
      "cell_type": "markdown",
      "metadata": {
        "id": "7Of0kceCpsMY",
        "colab_type": "text"
      },
      "source": [
        "Видим, что экономический эффект при этом уходит в минус, т.е. затраты становятся больше, чем доходы."
      ]
    },
    {
      "cell_type": "markdown",
      "metadata": {
        "id": "jI5Wu6d0pwqo",
        "colab_type": "text"
      },
      "source": [
        "5. Оцените изменение экономического эффекта от проведения кампании по удержанию при увеличении качества модели на 1%? На 3%? При ответе на вопрос укажите, по какой метрике вы оцениваете качество."
      ]
    },
    {
      "cell_type": "markdown",
      "metadata": {
        "id": "x53rdQQiqPSL",
        "colab_type": "text"
      },
      "source": [
        "Будем оценивать качество по метрике precision. Посчитаем её вручную, как количество true positives, разделённое на количество positives."
      ]
    },
    {
      "cell_type": "code",
      "metadata": {
        "id": "pxK26_8Ho_--",
        "colab_type": "code",
        "colab": {
          "base_uri": "https://localhost:8080/",
          "height": 67
        },
        "outputId": "a24cd741-66ee-4139-e01e-c04cb79da2d9"
      },
      "source": [
        "true_positives_original = sum(true_values == 1)\n",
        "positives = len(true_values)\n",
        "precision = float(true_positives_original)/positives\n",
        "print ('True positives: ', true_positives_original)\n",
        "print ('Positives: ', positives)\n",
        "print ('Precision: ', precision)"
      ],
      "execution_count": 26,
      "outputs": [
        {
          "output_type": "stream",
          "text": [
            "True positives:  36\n",
            "Positives:  43\n",
            "Precision:  0.8372093023255814\n"
          ],
          "name": "stdout"
        }
      ]
    },
    {
      "cell_type": "markdown",
      "metadata": {
        "id": "KYtKdNWFqsb6",
        "colab_type": "text"
      },
      "source": [
        "Увеличивая качество модели, будем считать, что количество positives остаётся прежним, а количество true positives увеличивается."
      ]
    },
    {
      "cell_type": "code",
      "metadata": {
        "id": "_ALXF0hcqWvC",
        "colab_type": "code",
        "colab": {
          "base_uri": "https://localhost:8080/",
          "height": 34
        },
        "outputId": "0963af18-6a49-4978-e9ac-39e78544bc3e"
      },
      "source": [
        "true_positives_one_percent = int(round((precision * 1.01) * positives))\n",
        "print ('True positives при увеличении качества на 1%: ', true_positives_one_percent)"
      ],
      "execution_count": 28,
      "outputs": [
        {
          "output_type": "stream",
          "text": [
            "True positives при увеличении качества на 1%:  36\n"
          ],
          "name": "stdout"
        }
      ]
    },
    {
      "cell_type": "code",
      "metadata": {
        "id": "KoNXzCkzqz5g",
        "colab_type": "code",
        "colab": {
          "base_uri": "https://localhost:8080/",
          "height": 34
        },
        "outputId": "b2b08959-d0d5-4f14-c605-6fb9d052fe63"
      },
      "source": [
        "true_positives_two_percent = int(round((precision * 1.02) * positives))\n",
        "print ('True positives при увеличении качества на 2%: ', true_positives_two_percent)"
      ],
      "execution_count": 29,
      "outputs": [
        {
          "output_type": "stream",
          "text": [
            "True positives при увеличении качества на 2%:  37\n"
          ],
          "name": "stdout"
        }
      ]
    },
    {
      "cell_type": "code",
      "metadata": {
        "id": "e9VAHuH4q8ty",
        "colab_type": "code",
        "colab": {
          "base_uri": "https://localhost:8080/",
          "height": 34
        },
        "outputId": "24086d32-ded4-4393-dedb-59992bdb6fae"
      },
      "source": [
        "true_positives_three_percent = int(round((precision * 1.03) * positives))\n",
        "print ('True positives при увеличении качества на 3%: ', true_positives_three_percent)"
      ],
      "execution_count": 30,
      "outputs": [
        {
          "output_type": "stream",
          "text": [
            "True positives при увеличении качества на 3%:  37\n"
          ],
          "name": "stdout"
        }
      ]
    },
    {
      "cell_type": "markdown",
      "metadata": {
        "id": "_WIh4ArKrJOs",
        "colab_type": "text"
      },
      "source": [
        "Для удобства подсчёта введём новую формулу для расчёта экономического эффекта, в которой будем считать, что мы всегда берём топ 100% пользователей, склонных к оттоку согласно модели."
      ]
    },
    {
      "cell_type": "code",
      "metadata": {
        "id": "LWaFq_jerCEz",
        "colab_type": "code",
        "colab": {}
      },
      "source": [
        "def effect_2(arpu, retention_cost, probability, time, true_positives):\n",
        "    number_of_accepted = int(np.floor(probability * true_positives))\n",
        "    cost = positives * retention_cost\n",
        "    income = number_of_accepted * arpu * time\n",
        "    return income - cost"
      ],
      "execution_count": 0,
      "outputs": []
    },
    {
      "cell_type": "markdown",
      "metadata": {
        "id": "ehejoSnRrhus",
        "colab_type": "text"
      },
      "source": [
        "Посчтитаем экономический эффект для оригинальной модели и моделей, качество которых увеличено на 1%, 2% и 3%."
      ]
    },
    {
      "cell_type": "code",
      "metadata": {
        "id": "oaUCmZ5lrako",
        "colab_type": "code",
        "colab": {
          "base_uri": "https://localhost:8080/",
          "height": 84
        },
        "outputId": "2a4c5eea-fdf2-443b-d063-cbecf17aaf70"
      },
      "source": [
        "for true_positives in (true_positives_original, true_positives_one_percent, true_positives_two_percent,\n",
        "                       true_positives_three_percent):\n",
        "    print (true_positives, ':', effect_2(1000, 100, 0.3, 3, true_positives))"
      ],
      "execution_count": 32,
      "outputs": [
        {
          "output_type": "stream",
          "text": [
            "36 : 25700\n",
            "36 : 25700\n",
            "37 : 28700\n",
            "37 : 28700\n"
          ],
          "name": "stdout"
        }
      ]
    },
    {
      "cell_type": "markdown",
      "metadata": {
        "id": "lpav1WKQsJ8m",
        "colab_type": "text"
      },
      "source": [
        "Видим, что при увеличении качества модели на 1% экономический эффект остаётся прежним, а при увеличении на 2% увеличивается на 3000."
      ]
    },
    {
      "cell_type": "markdown",
      "metadata": {
        "id": "L7J5NhmpsR5o",
        "colab_type": "text"
      },
      "source": [
        "6. Как вы думаете, является ли экономически оправданным вложение средств в улучшение качества модели? На сколько нужно улучшить модель, чтобы это качественно сказалось на экономическом эффекте от удержания?"
      ]
    },
    {
      "cell_type": "markdown",
      "metadata": {
        "id": "J-nX5rxvslLi",
        "colab_type": "text"
      },
      "source": [
        "Вложение средств в увеличение качества модели является экономически оправданным, если увеличение экономического эффекта больше, чем количество средств, которое мы вкладываем. Как показал эксперимент выше, качество модели нужно увеличить хотя бы на 2%, чтобы это сказалось на экономическом эффекте."
      ]
    },
    {
      "cell_type": "code",
      "metadata": {
        "id": "t-G5IzLCrr-U",
        "colab_type": "code",
        "colab": {}
      },
      "source": [
        ""
      ],
      "execution_count": 0,
      "outputs": []
    }
  ]
}